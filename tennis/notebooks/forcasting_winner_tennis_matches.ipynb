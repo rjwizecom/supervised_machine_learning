{
 "cells": [
  {
   "cell_type": "markdown",
   "metadata": {},
   "source": [
    "\n",
    "## \"Forecasting the winner of tennis matches in the Men’s ATP World Tour\"\n"
   ]
  },
  {
   "cell_type": "markdown",
   "metadata": {},
   "source": [
    "## Problem Statement"
   ]
  },
  {
   "cell_type": "markdown",
   "metadata": {},
   "source": [
    "The goal of the project is to predict the probability that the higher-ranked player will win a tennis match. We will call that a `win`. This can be stated more formally as:\n",
    "\n",
    "For two players ${\\cal P}_1$ and ${\\cal P}_2$ where ${{\\rm Rank}_1} > {{\\rm Rank}_2}$ we calculate the probability that ${\\cal P}_1$ will win the match, or that a `win` will happen.\n"
   ]
  },
  {
   "cell_type": "markdown",
   "metadata": {},
   "source": [
    "## Dataset"
   ]
  },
  {
   "cell_type": "markdown",
   "metadata": {},
   "source": [
    "Results for the men's ATP tour date back to January 2000 from the dateset http://www.tennis-data.co.uk/data.php (obtained from Kaggle). The original dataset is shown below."
   ]
  },
  {
   "cell_type": "code",
   "execution_count": 69,
   "metadata": {
    "collapsed": false
   },
   "outputs": [
    {
     "data": {
      "text/html": [
       "<div>\n",
       "<table border=\"1\" class=\"dataframe\">\n",
       "  <thead>\n",
       "    <tr style=\"text-align: right;\">\n",
       "      <th></th>\n",
       "      <th>ATP</th>\n",
       "      <th>Location</th>\n",
       "      <th>Tournament</th>\n",
       "      <th>Date</th>\n",
       "      <th>Series</th>\n",
       "      <th>Court</th>\n",
       "      <th>Surface</th>\n",
       "      <th>Round</th>\n",
       "      <th>Best of</th>\n",
       "      <th>Winner</th>\n",
       "      <th>...</th>\n",
       "      <th>UBW</th>\n",
       "      <th>UBL</th>\n",
       "      <th>LBW</th>\n",
       "      <th>LBL</th>\n",
       "      <th>SJW</th>\n",
       "      <th>SJL</th>\n",
       "      <th>MaxW</th>\n",
       "      <th>MaxL</th>\n",
       "      <th>AvgW</th>\n",
       "      <th>AvgL</th>\n",
       "    </tr>\n",
       "  </thead>\n",
       "  <tbody>\n",
       "    <tr>\n",
       "      <th>0</th>\n",
       "      <td>1</td>\n",
       "      <td>Adelaide</td>\n",
       "      <td>Australian Hardcourt Championships</td>\n",
       "      <td>3/01/2000</td>\n",
       "      <td>International</td>\n",
       "      <td>Outdoor</td>\n",
       "      <td>Hard</td>\n",
       "      <td>1st Round</td>\n",
       "      <td>3</td>\n",
       "      <td>Dosedel S.</td>\n",
       "      <td>...</td>\n",
       "      <td>NaN</td>\n",
       "      <td>NaN</td>\n",
       "      <td>NaN</td>\n",
       "      <td>NaN</td>\n",
       "      <td>NaN</td>\n",
       "      <td>NaN</td>\n",
       "      <td>NaN</td>\n",
       "      <td>NaN</td>\n",
       "      <td>NaN</td>\n",
       "      <td>NaN</td>\n",
       "    </tr>\n",
       "    <tr>\n",
       "      <th>1</th>\n",
       "      <td>1</td>\n",
       "      <td>Adelaide</td>\n",
       "      <td>Australian Hardcourt Championships</td>\n",
       "      <td>3/01/2000</td>\n",
       "      <td>International</td>\n",
       "      <td>Outdoor</td>\n",
       "      <td>Hard</td>\n",
       "      <td>1st Round</td>\n",
       "      <td>3</td>\n",
       "      <td>Enqvist T.</td>\n",
       "      <td>...</td>\n",
       "      <td>NaN</td>\n",
       "      <td>NaN</td>\n",
       "      <td>NaN</td>\n",
       "      <td>NaN</td>\n",
       "      <td>NaN</td>\n",
       "      <td>NaN</td>\n",
       "      <td>NaN</td>\n",
       "      <td>NaN</td>\n",
       "      <td>NaN</td>\n",
       "      <td>NaN</td>\n",
       "    </tr>\n",
       "    <tr>\n",
       "      <th>2</th>\n",
       "      <td>1</td>\n",
       "      <td>Adelaide</td>\n",
       "      <td>Australian Hardcourt Championships</td>\n",
       "      <td>3/01/2000</td>\n",
       "      <td>International</td>\n",
       "      <td>Outdoor</td>\n",
       "      <td>Hard</td>\n",
       "      <td>1st Round</td>\n",
       "      <td>3</td>\n",
       "      <td>Escude N.</td>\n",
       "      <td>...</td>\n",
       "      <td>NaN</td>\n",
       "      <td>NaN</td>\n",
       "      <td>NaN</td>\n",
       "      <td>NaN</td>\n",
       "      <td>NaN</td>\n",
       "      <td>NaN</td>\n",
       "      <td>NaN</td>\n",
       "      <td>NaN</td>\n",
       "      <td>NaN</td>\n",
       "      <td>NaN</td>\n",
       "    </tr>\n",
       "    <tr>\n",
       "      <th>3</th>\n",
       "      <td>1</td>\n",
       "      <td>Adelaide</td>\n",
       "      <td>Australian Hardcourt Championships</td>\n",
       "      <td>3/01/2000</td>\n",
       "      <td>International</td>\n",
       "      <td>Outdoor</td>\n",
       "      <td>Hard</td>\n",
       "      <td>1st Round</td>\n",
       "      <td>3</td>\n",
       "      <td>Federer R.</td>\n",
       "      <td>...</td>\n",
       "      <td>NaN</td>\n",
       "      <td>NaN</td>\n",
       "      <td>NaN</td>\n",
       "      <td>NaN</td>\n",
       "      <td>NaN</td>\n",
       "      <td>NaN</td>\n",
       "      <td>NaN</td>\n",
       "      <td>NaN</td>\n",
       "      <td>NaN</td>\n",
       "      <td>NaN</td>\n",
       "    </tr>\n",
       "    <tr>\n",
       "      <th>4</th>\n",
       "      <td>1</td>\n",
       "      <td>Adelaide</td>\n",
       "      <td>Australian Hardcourt Championships</td>\n",
       "      <td>3/01/2000</td>\n",
       "      <td>International</td>\n",
       "      <td>Outdoor</td>\n",
       "      <td>Hard</td>\n",
       "      <td>1st Round</td>\n",
       "      <td>3</td>\n",
       "      <td>Fromberg R.</td>\n",
       "      <td>...</td>\n",
       "      <td>NaN</td>\n",
       "      <td>NaN</td>\n",
       "      <td>NaN</td>\n",
       "      <td>NaN</td>\n",
       "      <td>NaN</td>\n",
       "      <td>NaN</td>\n",
       "      <td>NaN</td>\n",
       "      <td>NaN</td>\n",
       "      <td>NaN</td>\n",
       "      <td>NaN</td>\n",
       "    </tr>\n",
       "  </tbody>\n",
       "</table>\n",
       "<p>5 rows × 54 columns</p>\n",
       "</div>"
      ],
      "text/plain": [
       "   ATP  Location                          Tournament       Date  \\\n",
       "0    1  Adelaide  Australian Hardcourt Championships  3/01/2000   \n",
       "1    1  Adelaide  Australian Hardcourt Championships  3/01/2000   \n",
       "2    1  Adelaide  Australian Hardcourt Championships  3/01/2000   \n",
       "3    1  Adelaide  Australian Hardcourt Championships  3/01/2000   \n",
       "4    1  Adelaide  Australian Hardcourt Championships  3/01/2000   \n",
       "\n",
       "          Series    Court Surface      Round  Best of       Winner  ...  UBW  \\\n",
       "0  International  Outdoor    Hard  1st Round        3   Dosedel S.  ...  NaN   \n",
       "1  International  Outdoor    Hard  1st Round        3   Enqvist T.  ...  NaN   \n",
       "2  International  Outdoor    Hard  1st Round        3    Escude N.  ...  NaN   \n",
       "3  International  Outdoor    Hard  1st Round        3   Federer R.  ...  NaN   \n",
       "4  International  Outdoor    Hard  1st Round        3  Fromberg R.  ...  NaN   \n",
       "\n",
       "  UBL LBW  LBL  SJW  SJL  MaxW  MaxL  AvgW  AvgL  \n",
       "0 NaN NaN  NaN  NaN  NaN   NaN   NaN   NaN   NaN  \n",
       "1 NaN NaN  NaN  NaN  NaN   NaN   NaN   NaN   NaN  \n",
       "2 NaN NaN  NaN  NaN  NaN   NaN   NaN   NaN   NaN  \n",
       "3 NaN NaN  NaN  NaN  NaN   NaN   NaN   NaN   NaN  \n",
       "4 NaN NaN  NaN  NaN  NaN   NaN   NaN   NaN   NaN  \n",
       "\n",
       "[5 rows x 54 columns]"
      ]
     },
     "execution_count": 69,
     "metadata": {},
     "output_type": "execute_result"
    }
   ],
   "source": [
    "import pandas as pd\n",
    "df_atp = pd.read_csv('Data.csv')\n",
    "df_atp.head()"
   ]
  },
  {
   "cell_type": "markdown",
   "metadata": {},
   "source": [
    "## Features "
   ]
  },
  {
   "cell_type": "markdown",
   "metadata": {},
   "source": [
    "The features for each match that were used in the project follow:\n",
    "- `Date`: date of the match \n",
    "- `Series`: name of ATP tennis series (we kept the four main current categories namely Grand Slams, Masters 1000, ATP250, ATP500)\n",
    "- `Surface`: type of surface (clay, hard or grass)\n",
    "- `Round`: round of match (from first round to the final)\n",
    "- `Best of`: maximum number of sets playable in match (Best of 3 or Best of 5)\n",
    "- `WRank`: ATP Entry ranking of the match winner as of the start of the tournament\n",
    "- `LRank`: ATP Entry ranking of the match loser as of the start of the tournament"
   ]
  },
  {
   "cell_type": "markdown",
   "metadata": {},
   "source": [
    "The output variable is binary. The better player has higher rank by definition. We define the `win` variable by:"
   ]
  },
  {
   "cell_type": "markdown",
   "metadata": {},
   "source": [
    "${\\rm{win}} = \\left\\{ {\\begin{array}{*{20}{c}}\n",
    "1&{{\\rm{higher\\,\\,ranked\\,\\,player\\,\\, wins}}}\\\\\n",
    "0&{{\\rm{higher\\,\\,ranked\\,\\,player\\,\\, loses}}}\n",
    "\\end{array}} \\right.$"
   ]
  },
  {
   "cell_type": "markdown",
   "metadata": {},
   "source": [
    "## Importing basic modules"
   ]
  },
  {
   "cell_type": "code",
   "execution_count": 70,
   "metadata": {
    "collapsed": false
   },
   "outputs": [],
   "source": [
    "import numpy as np\n",
    "import statsmodels.api as sm\n",
    "import matplotlib.pyplot as plt\n",
    "from sklearn import metrics\n",
    "import seaborn as sns\n",
    "sns.set_style(\"darkgrid\")\n",
    "import pylab as pl\n",
    "%matplotlib inline"
   ]
  },
  {
   "cell_type": "markdown",
   "metadata": {},
   "source": [
    "## Pre-Processing of dataset"
   ]
  },
  {
   "cell_type": "markdown",
   "metadata": {},
   "source": [
    "After loading the dataset we proceed as following:\n",
    "- Keep only completed matches i.e. eliminate matches with injury withdrawals and walkovers.\n",
    "- For convenience we rename `Best of` to `Best_of`\n",
    "- Choose the features listed above\n",
    "- Drop `NaN` entries\n",
    "- Consider the two final years only (to avoid comparing different categories of tournaments which existed in the past). We note that this choice is somewhat arbitrary and can be changed if needed.\n",
    "- Choose only higher ranked players for better accuracy (as suggested by Corral and Prieto-Rodriguez (2010) and confirmed here)"
   ]
  },
  {
   "cell_type": "code",
   "execution_count": 71,
   "metadata": {
    "collapsed": false
   },
   "outputs": [
    {
     "data": {
      "text/html": [
       "<div>\n",
       "<table border=\"1\" class=\"dataframe\">\n",
       "  <thead>\n",
       "    <tr style=\"text-align: right;\">\n",
       "      <th></th>\n",
       "      <th>Date</th>\n",
       "      <th>Series</th>\n",
       "      <th>Surface</th>\n",
       "      <th>Round</th>\n",
       "      <th>Best_of</th>\n",
       "      <th>WRank</th>\n",
       "      <th>LRank</th>\n",
       "    </tr>\n",
       "  </thead>\n",
       "  <tbody>\n",
       "    <tr>\n",
       "      <th>39530</th>\n",
       "      <td>2014-12-02</td>\n",
       "      <td>ATP250</td>\n",
       "      <td>Clay</td>\n",
       "      <td>1st Round</td>\n",
       "      <td>3</td>\n",
       "      <td>92</td>\n",
       "      <td>42</td>\n",
       "    </tr>\n",
       "    <tr>\n",
       "      <th>39531</th>\n",
       "      <td>2014-12-02</td>\n",
       "      <td>ATP250</td>\n",
       "      <td>Clay</td>\n",
       "      <td>1st Round</td>\n",
       "      <td>3</td>\n",
       "      <td>45</td>\n",
       "      <td>78</td>\n",
       "    </tr>\n",
       "    <tr>\n",
       "      <th>39532</th>\n",
       "      <td>2014-12-02</td>\n",
       "      <td>ATP250</td>\n",
       "      <td>Clay</td>\n",
       "      <td>1st Round</td>\n",
       "      <td>3</td>\n",
       "      <td>53</td>\n",
       "      <td>230</td>\n",
       "    </tr>\n",
       "    <tr>\n",
       "      <th>39533</th>\n",
       "      <td>2014-12-02</td>\n",
       "      <td>ATP250</td>\n",
       "      <td>Clay</td>\n",
       "      <td>1st Round</td>\n",
       "      <td>3</td>\n",
       "      <td>84</td>\n",
       "      <td>165</td>\n",
       "    </tr>\n",
       "    <tr>\n",
       "      <th>39534</th>\n",
       "      <td>2014-12-02</td>\n",
       "      <td>ATP250</td>\n",
       "      <td>Clay</td>\n",
       "      <td>1st Round</td>\n",
       "      <td>3</td>\n",
       "      <td>18</td>\n",
       "      <td>111</td>\n",
       "    </tr>\n",
       "  </tbody>\n",
       "</table>\n",
       "</div>"
      ],
      "text/plain": [
       "            Date  Series Surface      Round  Best_of WRank LRank\n",
       "39530 2014-12-02  ATP250    Clay  1st Round        3    92    42\n",
       "39531 2014-12-02  ATP250    Clay  1st Round        3    45    78\n",
       "39532 2014-12-02  ATP250    Clay  1st Round        3    53   230\n",
       "39533 2014-12-02  ATP250    Clay  1st Round        3    84   165\n",
       "39534 2014-12-02  ATP250    Clay  1st Round        3    18   111"
      ]
     },
     "execution_count": 71,
     "metadata": {},
     "output_type": "execute_result"
    }
   ],
   "source": [
    "df_atp['Date'] = pd.to_datetime(df_atp['Date']) \n",
    "# Restricing dates\n",
    "df_atp = df_atp.loc[(df_atp['Date'] > '2014-11-09') & (df_atp['Date'] <= '2016-11-09')]\n",
    "# Keeping only completed matches\n",
    "df_atp = df_atp[df_atp['Comment'] == 'Completed'].drop(\"Comment\",axis = 1)\n",
    "# Rename Best of to Best_of\n",
    "df_atp.rename(columns = {'Best of':'Best_of'},inplace=True)\n",
    "# Choosing features\n",
    "cols_to_keep = ['Date','Series','Surface', 'Round','Best_of', 'WRank','LRank']\n",
    "# Dropping NaN\n",
    "df_atp = df_atp[cols_to_keep].dropna()\n",
    "# Dropping errors in the dataset and unimportant entries (e.g. there are very few entries for Masters Cup)\n",
    "df_atp = df_atp[(df_atp['LRank'] != 'NR') & (df_atp['WRank'] != 'NR') & (df_atp['Series'] != 'Masters Cup')]\n",
    "df_atp.head()"
   ]
  },
  {
   "cell_type": "code",
   "execution_count": 72,
   "metadata": {
    "collapsed": false
   },
   "outputs": [
    {
     "data": {
      "text/html": [
       "<div>\n",
       "<table border=\"1\" class=\"dataframe\">\n",
       "  <thead>\n",
       "    <tr style=\"text-align: right;\">\n",
       "      <th></th>\n",
       "      <th>Date</th>\n",
       "      <th>Series</th>\n",
       "      <th>Surface</th>\n",
       "      <th>Round</th>\n",
       "      <th>Best_of</th>\n",
       "      <th>WRank</th>\n",
       "      <th>LRank</th>\n",
       "    </tr>\n",
       "  </thead>\n",
       "  <tbody>\n",
       "    <tr>\n",
       "      <th>39530</th>\n",
       "      <td>2014-12-02</td>\n",
       "      <td>ATP250</td>\n",
       "      <td>Clay</td>\n",
       "      <td>1st Round</td>\n",
       "      <td>3</td>\n",
       "      <td>92</td>\n",
       "      <td>42</td>\n",
       "    </tr>\n",
       "    <tr>\n",
       "      <th>39531</th>\n",
       "      <td>2014-12-02</td>\n",
       "      <td>ATP250</td>\n",
       "      <td>Clay</td>\n",
       "      <td>1st Round</td>\n",
       "      <td>3</td>\n",
       "      <td>45</td>\n",
       "      <td>78</td>\n",
       "    </tr>\n",
       "    <tr>\n",
       "      <th>39532</th>\n",
       "      <td>2014-12-02</td>\n",
       "      <td>ATP250</td>\n",
       "      <td>Clay</td>\n",
       "      <td>1st Round</td>\n",
       "      <td>3</td>\n",
       "      <td>53</td>\n",
       "      <td>230</td>\n",
       "    </tr>\n",
       "    <tr>\n",
       "      <th>39533</th>\n",
       "      <td>2014-12-02</td>\n",
       "      <td>ATP250</td>\n",
       "      <td>Clay</td>\n",
       "      <td>1st Round</td>\n",
       "      <td>3</td>\n",
       "      <td>84</td>\n",
       "      <td>165</td>\n",
       "    </tr>\n",
       "    <tr>\n",
       "      <th>39534</th>\n",
       "      <td>2014-12-02</td>\n",
       "      <td>ATP250</td>\n",
       "      <td>Clay</td>\n",
       "      <td>1st Round</td>\n",
       "      <td>3</td>\n",
       "      <td>18</td>\n",
       "      <td>111</td>\n",
       "    </tr>\n",
       "  </tbody>\n",
       "</table>\n",
       "</div>"
      ],
      "text/plain": [
       "            Date  Series Surface      Round  Best_of  WRank  LRank\n",
       "39530 2014-12-02  ATP250    Clay  1st Round        3     92     42\n",
       "39531 2014-12-02  ATP250    Clay  1st Round        3     45     78\n",
       "39532 2014-12-02  ATP250    Clay  1st Round        3     53    230\n",
       "39533 2014-12-02  ATP250    Clay  1st Round        3     84    165\n",
       "39534 2014-12-02  ATP250    Clay  1st Round        3     18    111"
      ]
     },
     "execution_count": 72,
     "metadata": {},
     "output_type": "execute_result"
    }
   ],
   "source": [
    "# Transform strings into numerical values\n",
    "df_atp[['Best_of','WRank','LRank']] = df_atp[['Best_of','WRank','LRank']].astype(int)\n",
    "df_atp.head()"
   ]
  },
  {
   "cell_type": "markdown",
   "metadata": {},
   "source": [
    "We now create an extra columns for the variable `win` described above using an auxiliary function `win(x)`"
   ]
  },
  {
   "cell_type": "code",
   "execution_count": 73,
   "metadata": {
    "collapsed": false
   },
   "outputs": [
    {
     "data": {
      "text/html": [
       "<div>\n",
       "<table border=\"1\" class=\"dataframe\">\n",
       "  <thead>\n",
       "    <tr style=\"text-align: right;\">\n",
       "      <th></th>\n",
       "      <th>Date</th>\n",
       "      <th>Series</th>\n",
       "      <th>Surface</th>\n",
       "      <th>Round</th>\n",
       "      <th>Best_of</th>\n",
       "      <th>WRank</th>\n",
       "      <th>LRank</th>\n",
       "      <th>win</th>\n",
       "    </tr>\n",
       "  </thead>\n",
       "  <tbody>\n",
       "    <tr>\n",
       "      <th>39530</th>\n",
       "      <td>2014-12-02</td>\n",
       "      <td>ATP250</td>\n",
       "      <td>Clay</td>\n",
       "      <td>1st Round</td>\n",
       "      <td>3</td>\n",
       "      <td>92</td>\n",
       "      <td>42</td>\n",
       "      <td>0</td>\n",
       "    </tr>\n",
       "    <tr>\n",
       "      <th>39531</th>\n",
       "      <td>2014-12-02</td>\n",
       "      <td>ATP250</td>\n",
       "      <td>Clay</td>\n",
       "      <td>1st Round</td>\n",
       "      <td>3</td>\n",
       "      <td>45</td>\n",
       "      <td>78</td>\n",
       "      <td>1</td>\n",
       "    </tr>\n",
       "    <tr>\n",
       "      <th>39532</th>\n",
       "      <td>2014-12-02</td>\n",
       "      <td>ATP250</td>\n",
       "      <td>Clay</td>\n",
       "      <td>1st Round</td>\n",
       "      <td>3</td>\n",
       "      <td>53</td>\n",
       "      <td>230</td>\n",
       "      <td>1</td>\n",
       "    </tr>\n",
       "    <tr>\n",
       "      <th>39533</th>\n",
       "      <td>2014-12-02</td>\n",
       "      <td>ATP250</td>\n",
       "      <td>Clay</td>\n",
       "      <td>1st Round</td>\n",
       "      <td>3</td>\n",
       "      <td>84</td>\n",
       "      <td>165</td>\n",
       "      <td>1</td>\n",
       "    </tr>\n",
       "    <tr>\n",
       "      <th>39534</th>\n",
       "      <td>2014-12-02</td>\n",
       "      <td>ATP250</td>\n",
       "      <td>Clay</td>\n",
       "      <td>1st Round</td>\n",
       "      <td>3</td>\n",
       "      <td>18</td>\n",
       "      <td>111</td>\n",
       "      <td>1</td>\n",
       "    </tr>\n",
       "  </tbody>\n",
       "</table>\n",
       "</div>"
      ],
      "text/plain": [
       "            Date  Series Surface      Round  Best_of  WRank  LRank  win\n",
       "39530 2014-12-02  ATP250    Clay  1st Round        3     92     42    0\n",
       "39531 2014-12-02  ATP250    Clay  1st Round        3     45     78    1\n",
       "39532 2014-12-02  ATP250    Clay  1st Round        3     53    230    1\n",
       "39533 2014-12-02  ATP250    Clay  1st Round        3     84    165    1\n",
       "39534 2014-12-02  ATP250    Clay  1st Round        3     18    111    1"
      ]
     },
     "execution_count": 73,
     "metadata": {},
     "output_type": "execute_result"
    }
   ],
   "source": [
    "def win(x):\n",
    "    if x > 0:\n",
    "        return 0\n",
    "    elif x <= 0:\n",
    "        return 1  \n",
    "    \n",
    "df_atp['win'] = (df_atp['WRank'] - df_atp['LRank']).apply(win)\n",
    "df_atp.head()"
   ]
  },
  {
   "cell_type": "markdown",
   "metadata": {},
   "source": [
    "Following Corral and Prieto-Rodriguez (2010) we restrict the analysis to higher ranked players (the analysis including all players has indeed less predictive power as we tested)"
   ]
  },
  {
   "cell_type": "code",
   "execution_count": 9,
   "metadata": {
    "collapsed": false
   },
   "outputs": [
    {
     "data": {
      "text/html": [
       "<div>\n",
       "<table border=\"1\" class=\"dataframe\">\n",
       "  <thead>\n",
       "    <tr style=\"text-align: right;\">\n",
       "      <th></th>\n",
       "      <th>Date</th>\n",
       "      <th>Series</th>\n",
       "      <th>Surface</th>\n",
       "      <th>Round</th>\n",
       "      <th>Best_of</th>\n",
       "      <th>WRank</th>\n",
       "      <th>LRank</th>\n",
       "      <th>win</th>\n",
       "    </tr>\n",
       "  </thead>\n",
       "  <tbody>\n",
       "    <tr>\n",
       "      <th>39530</th>\n",
       "      <td>2014-12-02</td>\n",
       "      <td>ATP250</td>\n",
       "      <td>Clay</td>\n",
       "      <td>1st Round</td>\n",
       "      <td>3</td>\n",
       "      <td>92</td>\n",
       "      <td>42</td>\n",
       "      <td>0</td>\n",
       "    </tr>\n",
       "    <tr>\n",
       "      <th>39531</th>\n",
       "      <td>2014-12-02</td>\n",
       "      <td>ATP250</td>\n",
       "      <td>Clay</td>\n",
       "      <td>1st Round</td>\n",
       "      <td>3</td>\n",
       "      <td>45</td>\n",
       "      <td>78</td>\n",
       "      <td>1</td>\n",
       "    </tr>\n",
       "    <tr>\n",
       "      <th>39534</th>\n",
       "      <td>2014-12-02</td>\n",
       "      <td>ATP250</td>\n",
       "      <td>Clay</td>\n",
       "      <td>1st Round</td>\n",
       "      <td>3</td>\n",
       "      <td>18</td>\n",
       "      <td>111</td>\n",
       "      <td>1</td>\n",
       "    </tr>\n",
       "    <tr>\n",
       "      <th>39536</th>\n",
       "      <td>2014-12-02</td>\n",
       "      <td>ATP250</td>\n",
       "      <td>Clay</td>\n",
       "      <td>2nd Round</td>\n",
       "      <td>3</td>\n",
       "      <td>17</td>\n",
       "      <td>108</td>\n",
       "      <td>1</td>\n",
       "    </tr>\n",
       "    <tr>\n",
       "      <th>39537</th>\n",
       "      <td>2014-12-02</td>\n",
       "      <td>ATP250</td>\n",
       "      <td>Clay</td>\n",
       "      <td>2nd Round</td>\n",
       "      <td>3</td>\n",
       "      <td>14</td>\n",
       "      <td>58</td>\n",
       "      <td>1</td>\n",
       "    </tr>\n",
       "  </tbody>\n",
       "</table>\n",
       "</div>"
      ],
      "text/plain": [
       "            Date  Series Surface      Round  Best_of  WRank  LRank  win\n",
       "39530 2014-12-02  ATP250    Clay  1st Round        3     92     42    0\n",
       "39531 2014-12-02  ATP250    Clay  1st Round        3     45     78    1\n",
       "39534 2014-12-02  ATP250    Clay  1st Round        3     18    111    1\n",
       "39536 2014-12-02  ATP250    Clay  2nd Round        3     17    108    1\n",
       "39537 2014-12-02  ATP250    Clay  2nd Round        3     14     58    1"
      ]
     },
     "execution_count": 9,
     "metadata": {},
     "output_type": "execute_result"
    }
   ],
   "source": [
    "newdf = df_atp.copy()\n",
    "newdf2 = newdf[(newdf['WRank'] <= 150) & (newdf['LRank'] <= 150)]\n",
    "newdf2.head()"
   ]
  },
  {
   "cell_type": "markdown",
   "metadata": {},
   "source": [
    "##  Best_of = 5\n",
    "We now restrict our analysis to matches of Best_of = 5. Since only Grand Slams have 5 sets we can drop the new `Series` column. The case of Best_of = 3 will be considered afterwards."
   ]
  },
  {
   "cell_type": "code",
   "execution_count": 10,
   "metadata": {
    "collapsed": false
   },
   "outputs": [
    {
     "data": {
      "text/html": [
       "<div>\n",
       "<table border=\"1\" class=\"dataframe\">\n",
       "  <thead>\n",
       "    <tr style=\"text-align: right;\">\n",
       "      <th></th>\n",
       "      <th>Date</th>\n",
       "      <th>Surface</th>\n",
       "      <th>Round</th>\n",
       "      <th>WRank</th>\n",
       "      <th>LRank</th>\n",
       "      <th>win</th>\n",
       "    </tr>\n",
       "  </thead>\n",
       "  <tbody>\n",
       "    <tr>\n",
       "      <th>41911</th>\n",
       "      <td>2015-01-19</td>\n",
       "      <td>Hard</td>\n",
       "      <td>1st Round</td>\n",
       "      <td>85</td>\n",
       "      <td>84</td>\n",
       "      <td>0</td>\n",
       "    </tr>\n",
       "    <tr>\n",
       "      <th>41912</th>\n",
       "      <td>2015-01-19</td>\n",
       "      <td>Hard</td>\n",
       "      <td>1st Round</td>\n",
       "      <td>11</td>\n",
       "      <td>90</td>\n",
       "      <td>1</td>\n",
       "    </tr>\n",
       "    <tr>\n",
       "      <th>41913</th>\n",
       "      <td>2015-01-19</td>\n",
       "      <td>Hard</td>\n",
       "      <td>1st Round</td>\n",
       "      <td>15</td>\n",
       "      <td>59</td>\n",
       "      <td>1</td>\n",
       "    </tr>\n",
       "    <tr>\n",
       "      <th>41914</th>\n",
       "      <td>2015-01-19</td>\n",
       "      <td>Hard</td>\n",
       "      <td>1st Round</td>\n",
       "      <td>31</td>\n",
       "      <td>91</td>\n",
       "      <td>1</td>\n",
       "    </tr>\n",
       "    <tr>\n",
       "      <th>41915</th>\n",
       "      <td>2015-01-19</td>\n",
       "      <td>Hard</td>\n",
       "      <td>1st Round</td>\n",
       "      <td>99</td>\n",
       "      <td>98</td>\n",
       "      <td>0</td>\n",
       "    </tr>\n",
       "  </tbody>\n",
       "</table>\n",
       "</div>"
      ],
      "text/plain": [
       "            Date Surface      Round  WRank  LRank  win\n",
       "41911 2015-01-19    Hard  1st Round     85     84    0\n",
       "41912 2015-01-19    Hard  1st Round     11     90    1\n",
       "41913 2015-01-19    Hard  1st Round     15     59    1\n",
       "41914 2015-01-19    Hard  1st Round     31     91    1\n",
       "41915 2015-01-19    Hard  1st Round     99     98    0"
      ]
     },
     "execution_count": 10,
     "metadata": {},
     "output_type": "execute_result"
    }
   ],
   "source": [
    "df3 = newdf2.copy()\n",
    "df3 = df3[df3['Best_of'] == 5]\n",
    "# Drop Best_of and Series columns\n",
    "df3.drop(\"Series\",axis = 1,inplace=True)\n",
    "df3.drop(\"Best_of\",axis = 1,inplace=True)\n",
    "df3.head()"
   ]
  },
  {
   "cell_type": "markdown",
   "metadata": {},
   "source": [
    "Now we notice that our dataset is uneven in terms of frequency of `wins`:"
   ]
  },
  {
   "cell_type": "code",
   "execution_count": 11,
   "metadata": {
    "collapsed": false
   },
   "outputs": [
    {
     "name": "stdout",
     "output_type": "stream",
     "text": [
      "618\n",
      "816\n"
     ]
    },
    {
     "data": {
      "text/plain": [
       "0.7573529411764706"
      ]
     },
     "execution_count": 11,
     "metadata": {},
     "output_type": "execute_result"
    }
   ],
   "source": [
    "print(df3['win'].sum(axis=0))\n",
    "print(len(df3.index))\n",
    "df3['win'].sum(axis=0)/float(len(df3.index))"
   ]
  },
  {
   "cell_type": "markdown",
   "metadata": {},
   "source": [
    "To correct this problem, and create a balanced dataset, we use a stratified sampling procedure. "
   ]
  },
  {
   "cell_type": "code",
   "execution_count": 12,
   "metadata": {
    "collapsed": false
   },
   "outputs": [],
   "source": [
    "y_0 = df3[df3.win == 0] \n",
    "y_1 = df3[df3.win == 1] \n",
    "n = min([len(y_0), len(y_1)]) \n",
    "y_0 = y_0.sample(n = n, random_state = 0) \n",
    "y_1 = y_1.sample(n = n, random_state = 0)\n",
    "df_strat = pd.concat([y_0, y_1]) \n",
    "X_strat = df_strat[['Date', 'Surface', 'Round','WRank', 'LRank']]\n",
    "y_strat = df_strat.win"
   ]
  },
  {
   "cell_type": "code",
   "execution_count": 13,
   "metadata": {
    "collapsed": false
   },
   "outputs": [
    {
     "data": {
      "text/html": [
       "<div>\n",
       "<table border=\"1\" class=\"dataframe\">\n",
       "  <thead>\n",
       "    <tr style=\"text-align: right;\">\n",
       "      <th></th>\n",
       "      <th>Date</th>\n",
       "      <th>Surface</th>\n",
       "      <th>Round</th>\n",
       "      <th>WRank</th>\n",
       "      <th>LRank</th>\n",
       "    </tr>\n",
       "  </thead>\n",
       "  <tbody>\n",
       "    <tr>\n",
       "      <th>41984</th>\n",
       "      <td>2015-01-21</td>\n",
       "      <td>Hard</td>\n",
       "      <td>2nd Round</td>\n",
       "      <td>46</td>\n",
       "      <td>31</td>\n",
       "    </tr>\n",
       "    <tr>\n",
       "      <th>46044</th>\n",
       "      <td>2016-08-07</td>\n",
       "      <td>Grass</td>\n",
       "      <td>Semifinals</td>\n",
       "      <td>7</td>\n",
       "      <td>3</td>\n",
       "    </tr>\n",
       "    <tr>\n",
       "      <th>43308</th>\n",
       "      <td>2015-06-29</td>\n",
       "      <td>Grass</td>\n",
       "      <td>1st Round</td>\n",
       "      <td>148</td>\n",
       "      <td>93</td>\n",
       "    </tr>\n",
       "    <tr>\n",
       "      <th>46497</th>\n",
       "      <td>2016-08-29</td>\n",
       "      <td>Hard</td>\n",
       "      <td>1st Round</td>\n",
       "      <td>120</td>\n",
       "      <td>54</td>\n",
       "    </tr>\n",
       "    <tr>\n",
       "      <th>43345</th>\n",
       "      <td>2015-06-30</td>\n",
       "      <td>Grass</td>\n",
       "      <td>1st Round</td>\n",
       "      <td>37</td>\n",
       "      <td>32</td>\n",
       "    </tr>\n",
       "  </tbody>\n",
       "</table>\n",
       "</div>"
      ],
      "text/plain": [
       "            Date Surface       Round  WRank  LRank\n",
       "41984 2015-01-21    Hard   2nd Round     46     31\n",
       "46044 2016-08-07   Grass  Semifinals      7      3\n",
       "43308 2015-06-29   Grass   1st Round    148     93\n",
       "46497 2016-08-29    Hard   1st Round    120     54\n",
       "43345 2015-06-30   Grass   1st Round     37     32"
      ]
     },
     "execution_count": 13,
     "metadata": {},
     "output_type": "execute_result"
    }
   ],
   "source": [
    "X_strat.head()"
   ]
  },
  {
   "cell_type": "code",
   "execution_count": 14,
   "metadata": {
    "collapsed": false
   },
   "outputs": [
    {
     "data": {
      "text/plain": [
       "41984    0\n",
       "46044    0\n",
       "43308    0\n",
       "46497    0\n",
       "43345    0\n",
       "Name: win, dtype: int64"
      ]
     },
     "execution_count": 14,
     "metadata": {},
     "output_type": "execute_result"
    }
   ],
   "source": [
    "y_strat.head()"
   ]
  },
  {
   "cell_type": "code",
   "execution_count": 15,
   "metadata": {
    "collapsed": false
   },
   "outputs": [
    {
     "data": {
      "text/html": [
       "<div>\n",
       "<table border=\"1\" class=\"dataframe\">\n",
       "  <thead>\n",
       "    <tr style=\"text-align: right;\">\n",
       "      <th></th>\n",
       "      <th>Date</th>\n",
       "      <th>Surface</th>\n",
       "      <th>Round</th>\n",
       "      <th>WRank</th>\n",
       "      <th>LRank</th>\n",
       "      <th>win</th>\n",
       "    </tr>\n",
       "  </thead>\n",
       "  <tbody>\n",
       "    <tr>\n",
       "      <th>41984</th>\n",
       "      <td>2015-01-21</td>\n",
       "      <td>Hard</td>\n",
       "      <td>2nd Round</td>\n",
       "      <td>46</td>\n",
       "      <td>31</td>\n",
       "      <td>0</td>\n",
       "    </tr>\n",
       "    <tr>\n",
       "      <th>46044</th>\n",
       "      <td>2016-08-07</td>\n",
       "      <td>Grass</td>\n",
       "      <td>Semifinals</td>\n",
       "      <td>7</td>\n",
       "      <td>3</td>\n",
       "      <td>0</td>\n",
       "    </tr>\n",
       "    <tr>\n",
       "      <th>43308</th>\n",
       "      <td>2015-06-29</td>\n",
       "      <td>Grass</td>\n",
       "      <td>1st Round</td>\n",
       "      <td>148</td>\n",
       "      <td>93</td>\n",
       "      <td>0</td>\n",
       "    </tr>\n",
       "    <tr>\n",
       "      <th>46497</th>\n",
       "      <td>2016-08-29</td>\n",
       "      <td>Hard</td>\n",
       "      <td>1st Round</td>\n",
       "      <td>120</td>\n",
       "      <td>54</td>\n",
       "      <td>0</td>\n",
       "    </tr>\n",
       "    <tr>\n",
       "      <th>43345</th>\n",
       "      <td>2015-06-30</td>\n",
       "      <td>Grass</td>\n",
       "      <td>1st Round</td>\n",
       "      <td>37</td>\n",
       "      <td>32</td>\n",
       "      <td>0</td>\n",
       "    </tr>\n",
       "  </tbody>\n",
       "</table>\n",
       "</div>"
      ],
      "text/plain": [
       "            Date Surface       Round  WRank  LRank  win\n",
       "41984 2015-01-21    Hard   2nd Round     46     31    0\n",
       "46044 2016-08-07   Grass  Semifinals      7      3    0\n",
       "43308 2015-06-29   Grass   1st Round    148     93    0\n",
       "46497 2016-08-29    Hard   1st Round    120     54    0\n",
       "43345 2015-06-30   Grass   1st Round     37     32    0"
      ]
     },
     "execution_count": 15,
     "metadata": {},
     "output_type": "execute_result"
    }
   ],
   "source": [
    "X_strat_1=X_strat.copy()\n",
    "X_strat_1['win']=y_strat\n",
    "X_strat_1.head()"
   ]
  },
  {
   "cell_type": "markdown",
   "metadata": {},
   "source": [
    "We now define the variables ${\\cal P}_1$ and ${\\cal P}_2$ where ${{\\rm Rank}_1} > {{\\rm Rank}_2}$"
   ]
  },
  {
   "cell_type": "code",
   "execution_count": 17,
   "metadata": {
    "collapsed": false
   },
   "outputs": [
    {
     "data": {
      "text/html": [
       "<div>\n",
       "<table border=\"1\" class=\"dataframe\">\n",
       "  <thead>\n",
       "    <tr style=\"text-align: right;\">\n",
       "      <th></th>\n",
       "      <th>Date</th>\n",
       "      <th>Surface</th>\n",
       "      <th>Round</th>\n",
       "      <th>WRank</th>\n",
       "      <th>LRank</th>\n",
       "      <th>win</th>\n",
       "      <th>P1</th>\n",
       "      <th>P2</th>\n",
       "    </tr>\n",
       "  </thead>\n",
       "  <tbody>\n",
       "    <tr>\n",
       "      <th>41984</th>\n",
       "      <td>2015-01-21</td>\n",
       "      <td>Hard</td>\n",
       "      <td>2nd Round</td>\n",
       "      <td>46</td>\n",
       "      <td>31</td>\n",
       "      <td>0</td>\n",
       "      <td>46</td>\n",
       "      <td>31</td>\n",
       "    </tr>\n",
       "    <tr>\n",
       "      <th>46044</th>\n",
       "      <td>2016-08-07</td>\n",
       "      <td>Grass</td>\n",
       "      <td>Semifinals</td>\n",
       "      <td>7</td>\n",
       "      <td>3</td>\n",
       "      <td>0</td>\n",
       "      <td>7</td>\n",
       "      <td>3</td>\n",
       "    </tr>\n",
       "    <tr>\n",
       "      <th>43308</th>\n",
       "      <td>2015-06-29</td>\n",
       "      <td>Grass</td>\n",
       "      <td>1st Round</td>\n",
       "      <td>148</td>\n",
       "      <td>93</td>\n",
       "      <td>0</td>\n",
       "      <td>148</td>\n",
       "      <td>93</td>\n",
       "    </tr>\n",
       "    <tr>\n",
       "      <th>46497</th>\n",
       "      <td>2016-08-29</td>\n",
       "      <td>Hard</td>\n",
       "      <td>1st Round</td>\n",
       "      <td>120</td>\n",
       "      <td>54</td>\n",
       "      <td>0</td>\n",
       "      <td>120</td>\n",
       "      <td>54</td>\n",
       "    </tr>\n",
       "    <tr>\n",
       "      <th>43345</th>\n",
       "      <td>2015-06-30</td>\n",
       "      <td>Grass</td>\n",
       "      <td>1st Round</td>\n",
       "      <td>37</td>\n",
       "      <td>32</td>\n",
       "      <td>0</td>\n",
       "      <td>37</td>\n",
       "      <td>32</td>\n",
       "    </tr>\n",
       "  </tbody>\n",
       "</table>\n",
       "</div>"
      ],
      "text/plain": [
       "            Date Surface       Round  WRank  LRank  win   P1  P2\n",
       "41984 2015-01-21    Hard   2nd Round     46     31    0   46  31\n",
       "46044 2016-08-07   Grass  Semifinals      7      3    0    7   3\n",
       "43308 2015-06-29   Grass   1st Round    148     93    0  148  93\n",
       "46497 2016-08-29    Hard   1st Round    120     54    0  120  54\n",
       "43345 2015-06-30   Grass   1st Round     37     32    0   37  32"
      ]
     },
     "execution_count": 17,
     "metadata": {},
     "output_type": "execute_result"
    }
   ],
   "source": [
    "df = X_strat_1.copy()\n",
    "df[\"P1\"] = df[[\"WRank\", \"LRank\"]].max(axis=1)\n",
    "df[\"P2\"] = df[[\"WRank\", \"LRank\"]].min(axis=1)\n",
    "df.head()"
   ]
  },
  {
   "cell_type": "markdown",
   "metadata": {},
   "source": [
    "## Exploratory Analysis for Best_of = 5"
   ]
  },
  {
   "cell_type": "markdown",
   "metadata": {},
   "source": [
    "We first look at percentage of wins for each surface. We find that when the `Surface` is Clay there is a higher likelihood of upsets (opposite of wins) i.e. the percentage of wins is lower. The difference is not too large tough."
   ]
  },
  {
   "cell_type": "code",
   "execution_count": 18,
   "metadata": {
    "collapsed": false
   },
   "outputs": [
    {
     "data": {
      "text/html": [
       "<div>\n",
       "<table border=\"1\" class=\"dataframe\">\n",
       "  <thead>\n",
       "    <tr style=\"text-align: right;\">\n",
       "      <th>Surface</th>\n",
       "      <th>Clay</th>\n",
       "      <th>Grass</th>\n",
       "      <th>Hard</th>\n",
       "    </tr>\n",
       "    <tr>\n",
       "      <th>win</th>\n",
       "      <th></th>\n",
       "      <th></th>\n",
       "      <th></th>\n",
       "    </tr>\n",
       "  </thead>\n",
       "  <tbody>\n",
       "    <tr>\n",
       "      <th>0</th>\n",
       "      <td>0.557692</td>\n",
       "      <td>0.474747</td>\n",
       "      <td>0.481865</td>\n",
       "    </tr>\n",
       "    <tr>\n",
       "      <th>1</th>\n",
       "      <td>0.442308</td>\n",
       "      <td>0.525253</td>\n",
       "      <td>0.518135</td>\n",
       "    </tr>\n",
       "  </tbody>\n",
       "</table>\n",
       "</div>"
      ],
      "text/plain": [
       "Surface      Clay     Grass      Hard\n",
       "win                                  \n",
       "0        0.557692  0.474747  0.481865\n",
       "1        0.442308  0.525253  0.518135"
      ]
     },
     "execution_count": 18,
     "metadata": {},
     "output_type": "execute_result"
    }
   ],
   "source": [
    "win_by_Surface = pd.crosstab(df.win, df.Surface).apply( lambda x: x/x.sum(), axis = 0 )\n",
    "win_by_Surface"
   ]
  },
  {
   "cell_type": "code",
   "execution_count": 19,
   "metadata": {
    "collapsed": false
   },
   "outputs": [
    {
     "data": {
      "image/png": "[encoded data removed]",
      "text/plain": [
       "<matplotlib.figure.Figure at 0x11994f610>"
      ]
     },
     "metadata": {},
     "output_type": "display_data"
    }
   ],
   "source": [
    "win_by_Surface = pd.DataFrame( win_by_Surface.unstack() ).reset_index()\n",
    "win_by_Surface.columns = [\"Surface\", \"win\", \"total\" ]\n",
    "fig2 = sns.barplot(win_by_Surface.Surface, win_by_Surface.total, hue = win_by_Surface.win )\n",
    "fig2.figure.set_size_inches(8,5)"
   ]
  },
  {
   "cell_type": "markdown",
   "metadata": {},
   "source": [
    "What about the dependence on rounds? The relation is not very clear but we can clearly see that upsets are unlikely to happen on the semifinals."
   ]
  },
  {
   "cell_type": "code",
   "execution_count": 20,
   "metadata": {
    "collapsed": false
   },
   "outputs": [
    {
     "data": {
      "text/html": [
       "<div>\n",
       "<table border=\"1\" class=\"dataframe\">\n",
       "  <thead>\n",
       "    <tr style=\"text-align: right;\">\n",
       "      <th>Round</th>\n",
       "      <th>1st Round</th>\n",
       "      <th>2nd Round</th>\n",
       "      <th>3rd Round</th>\n",
       "      <th>4th Round</th>\n",
       "      <th>Quarterfinals</th>\n",
       "      <th>Semifinals</th>\n",
       "      <th>The Final</th>\n",
       "    </tr>\n",
       "    <tr>\n",
       "      <th>win</th>\n",
       "      <th></th>\n",
       "      <th></th>\n",
       "      <th></th>\n",
       "      <th></th>\n",
       "      <th></th>\n",
       "      <th></th>\n",
       "      <th></th>\n",
       "    </tr>\n",
       "  </thead>\n",
       "  <tbody>\n",
       "    <tr>\n",
       "      <th>0</th>\n",
       "      <td>0.521505</td>\n",
       "      <td>0.542056</td>\n",
       "      <td>0.469388</td>\n",
       "      <td>0.354839</td>\n",
       "      <td>0.666667</td>\n",
       "      <td>0.111111</td>\n",
       "      <td>0.4</td>\n",
       "    </tr>\n",
       "    <tr>\n",
       "      <th>1</th>\n",
       "      <td>0.478495</td>\n",
       "      <td>0.457944</td>\n",
       "      <td>0.530612</td>\n",
       "      <td>0.645161</td>\n",
       "      <td>0.333333</td>\n",
       "      <td>0.888889</td>\n",
       "      <td>0.6</td>\n",
       "    </tr>\n",
       "  </tbody>\n",
       "</table>\n",
       "</div>"
      ],
      "text/plain": [
       "Round  1st Round  2nd Round  3rd Round  4th Round  Quarterfinals  Semifinals  \\\n",
       "win                                                                            \n",
       "0       0.521505   0.542056   0.469388   0.354839       0.666667    0.111111   \n",
       "1       0.478495   0.457944   0.530612   0.645161       0.333333    0.888889   \n",
       "\n",
       "Round  The Final  \n",
       "win               \n",
       "0            0.4  \n",
       "1            0.6  "
      ]
     },
     "execution_count": 20,
     "metadata": {},
     "output_type": "execute_result"
    }
   ],
   "source": [
    "win_by_round = pd.crosstab(df.win, df.Round).apply( lambda x: x/x.sum(), axis = 0 )\n",
    "win_by_round"
   ]
  },
  {
   "cell_type": "code",
   "execution_count": 21,
   "metadata": {
    "collapsed": false
   },
   "outputs": [
    {
     "data": {
      "image/png": "[encoded data removed]",
      "text/plain": [
       "<matplotlib.figure.Figure at 0x1199af4d0>"
      ]
     },
     "metadata": {},
     "output_type": "display_data"
    }
   ],
   "source": [
    "win_by_round = pd.DataFrame(win_by_round.unstack() ).reset_index()\n",
    "win_by_round.columns = [\"Round\", \"win\", \"total\" ]\n",
    "fig2 = sns.barplot(win_by_round.Round, win_by_round.total, hue = win_by_round.win )\n",
    "fig2.figure.set_size_inches(8,5)"
   ]
  },
  {
   "cell_type": "markdown",
   "metadata": {},
   "source": [
    "Let's check these results before stratification"
   ]
  },
  {
   "cell_type": "code",
   "execution_count": 22,
   "metadata": {
    "collapsed": false
   },
   "outputs": [
    {
     "data": {
      "image/png": "[encoded data removed]",
      "text/plain": [
       "<matplotlib.figure.Figure at 0x11c3f1e90>"
      ]
     },
     "metadata": {},
     "output_type": "display_data"
    }
   ],
   "source": [
    "win_by_Surface_before_strat = pd.crosstab(df3.win, df3.Surface).apply( lambda x: x/x.sum(), axis = 0 )\n",
    "win_by_Surface_before_strat = pd.DataFrame( win_by_Surface_before_strat.unstack() ).reset_index()\n",
    "win_by_Surface_before_strat.columns = [\"Surface\", \"win\", \"total\" ]\n",
    "fig2 = sns.barplot(win_by_Surface_before_strat.Surface, win_by_Surface_before_strat.total, hue = win_by_Surface_before_strat.win )\n",
    "fig2.figure.set_size_inches(8,5)"
   ]
  },
  {
   "cell_type": "code",
   "execution_count": 23,
   "metadata": {
    "collapsed": false
   },
   "outputs": [
    {
     "data": {
      "image/png": "[encoded data removed]",
      "text/plain": [
       "<matplotlib.figure.Figure at 0x11c044690>"
      ]
     },
     "metadata": {},
     "output_type": "display_data"
    }
   ],
   "source": [
    "win_by_round_before_strat = pd.crosstab(df3.win, df3.Round).apply( lambda x: x/x.sum(), axis = 0 )\n",
    "win_by_round_before_strat = pd.DataFrame(win_by_round_before_strat.unstack() ).reset_index()\n",
    "win_by_round_before_strat.columns = [\"Round\", \"win\", \"total\" ]\n",
    "fig2 = sns.barplot(win_by_round_before_strat.Round, win_by_round_before_strat.total, hue = win_by_round_before_strat.win )\n",
    "fig2.figure.set_size_inches(8,5)"
   ]
  },
  {
   "cell_type": "markdown",
   "metadata": {},
   "source": [
    "Dummy variables\n",
    "------"
   ]
  },
  {
   "cell_type": "markdown",
   "metadata": {},
   "source": [
    "To keep the dataframe cleaner we transform the `Round` entries into numbers. We then transform rounds into dummy variables"
   ]
  },
  {
   "cell_type": "code",
   "execution_count": 24,
   "metadata": {
    "collapsed": false
   },
   "outputs": [
    {
     "data": {
      "text/html": [
       "<div>\n",
       "<table border=\"1\" class=\"dataframe\">\n",
       "  <thead>\n",
       "    <tr style=\"text-align: right;\">\n",
       "      <th></th>\n",
       "      <th>Date</th>\n",
       "      <th>Surface</th>\n",
       "      <th>Round</th>\n",
       "      <th>WRank</th>\n",
       "      <th>LRank</th>\n",
       "      <th>win</th>\n",
       "      <th>P1</th>\n",
       "      <th>P2</th>\n",
       "      <th>Round_2</th>\n",
       "      <th>Round_3</th>\n",
       "      <th>Round_4</th>\n",
       "      <th>Round_5</th>\n",
       "      <th>Round_6</th>\n",
       "      <th>Round_7</th>\n",
       "    </tr>\n",
       "  </thead>\n",
       "  <tbody>\n",
       "    <tr>\n",
       "      <th>41984</th>\n",
       "      <td>2015-01-21</td>\n",
       "      <td>Hard</td>\n",
       "      <td>2</td>\n",
       "      <td>46</td>\n",
       "      <td>31</td>\n",
       "      <td>0</td>\n",
       "      <td>46</td>\n",
       "      <td>31</td>\n",
       "      <td>1</td>\n",
       "      <td>0</td>\n",
       "      <td>0</td>\n",
       "      <td>0</td>\n",
       "      <td>0</td>\n",
       "      <td>0</td>\n",
       "    </tr>\n",
       "    <tr>\n",
       "      <th>46044</th>\n",
       "      <td>2016-08-07</td>\n",
       "      <td>Grass</td>\n",
       "      <td>6</td>\n",
       "      <td>7</td>\n",
       "      <td>3</td>\n",
       "      <td>0</td>\n",
       "      <td>7</td>\n",
       "      <td>3</td>\n",
       "      <td>0</td>\n",
       "      <td>0</td>\n",
       "      <td>0</td>\n",
       "      <td>0</td>\n",
       "      <td>1</td>\n",
       "      <td>0</td>\n",
       "    </tr>\n",
       "    <tr>\n",
       "      <th>43308</th>\n",
       "      <td>2015-06-29</td>\n",
       "      <td>Grass</td>\n",
       "      <td>1</td>\n",
       "      <td>148</td>\n",
       "      <td>93</td>\n",
       "      <td>0</td>\n",
       "      <td>148</td>\n",
       "      <td>93</td>\n",
       "      <td>0</td>\n",
       "      <td>0</td>\n",
       "      <td>0</td>\n",
       "      <td>0</td>\n",
       "      <td>0</td>\n",
       "      <td>0</td>\n",
       "    </tr>\n",
       "    <tr>\n",
       "      <th>46497</th>\n",
       "      <td>2016-08-29</td>\n",
       "      <td>Hard</td>\n",
       "      <td>1</td>\n",
       "      <td>120</td>\n",
       "      <td>54</td>\n",
       "      <td>0</td>\n",
       "      <td>120</td>\n",
       "      <td>54</td>\n",
       "      <td>0</td>\n",
       "      <td>0</td>\n",
       "      <td>0</td>\n",
       "      <td>0</td>\n",
       "      <td>0</td>\n",
       "      <td>0</td>\n",
       "    </tr>\n",
       "    <tr>\n",
       "      <th>43345</th>\n",
       "      <td>2015-06-30</td>\n",
       "      <td>Grass</td>\n",
       "      <td>1</td>\n",
       "      <td>37</td>\n",
       "      <td>32</td>\n",
       "      <td>0</td>\n",
       "      <td>37</td>\n",
       "      <td>32</td>\n",
       "      <td>0</td>\n",
       "      <td>0</td>\n",
       "      <td>0</td>\n",
       "      <td>0</td>\n",
       "      <td>0</td>\n",
       "      <td>0</td>\n",
       "    </tr>\n",
       "  </tbody>\n",
       "</table>\n",
       "</div>"
      ],
      "text/plain": [
       "            Date Surface  Round  WRank  LRank  win   P1  P2  Round_2  Round_3  \\\n",
       "41984 2015-01-21    Hard      2     46     31    0   46  31        1        0   \n",
       "46044 2016-08-07   Grass      6      7      3    0    7   3        0        0   \n",
       "43308 2015-06-29   Grass      1    148     93    0  148  93        0        0   \n",
       "46497 2016-08-29    Hard      1    120     54    0  120  54        0        0   \n",
       "43345 2015-06-30   Grass      1     37     32    0   37  32        0        0   \n",
       "\n",
       "       Round_4  Round_5  Round_6  Round_7  \n",
       "41984        0        0        0        0  \n",
       "46044        0        0        1        0  \n",
       "43308        0        0        0        0  \n",
       "46497        0        0        0        0  \n",
       "43345        0        0        0        0  "
      ]
     },
     "execution_count": 24,
     "metadata": {},
     "output_type": "execute_result"
    }
   ],
   "source": [
    "df1 = df.copy()\n",
    "def round_number(x):\n",
    "    if x == '1st Round':\n",
    "        return 1\n",
    "    elif x == '2nd Round':\n",
    "        return 2\n",
    "    elif x == '3rd Round':\n",
    "        return 3\n",
    "    elif x == '4th Round':\n",
    "        return 4\n",
    "    elif x == 'Quarterfinals':\n",
    "        return 5\n",
    "    elif x == 'Semifinals':\n",
    "        return 6\n",
    "    elif x == 'The Final':\n",
    "        return 7\n",
    "    \n",
    "df1['Round'] = df1['Round'].apply(round_number)\n",
    "\n",
    "dummy_ranks = pd.get_dummies(df1['Round'], prefix='Round')\n",
    "\n",
    "df1 = df1.join(dummy_ranks.ix[:, 'Round_2':])\n",
    "df1[['Round_2', 'Round_3',\n",
    "       'Round_4', 'Round_5', 'Round_6', 'Round_7']] = df1[['Round_2', 'Round_3','Round_4', 'Round_5', 'Round_6', 'Round_7']].astype('int_')\n",
    "df1.head()"
   ]
  },
  {
   "cell_type": "markdown",
   "metadata": {},
   "source": [
    "We repeat this for the `Surface` variable"
   ]
  },
  {
   "cell_type": "code",
   "execution_count": 25,
   "metadata": {
    "collapsed": false
   },
   "outputs": [
    {
     "data": {
      "text/html": [
       "<div>\n",
       "<table border=\"1\" class=\"dataframe\">\n",
       "  <thead>\n",
       "    <tr style=\"text-align: right;\">\n",
       "      <th></th>\n",
       "      <th>Surface_Clay</th>\n",
       "      <th>Surface_Grass</th>\n",
       "      <th>Surface_Hard</th>\n",
       "    </tr>\n",
       "  </thead>\n",
       "  <tbody>\n",
       "    <tr>\n",
       "      <th>41984</th>\n",
       "      <td>0.0</td>\n",
       "      <td>0.0</td>\n",
       "      <td>1.0</td>\n",
       "    </tr>\n",
       "    <tr>\n",
       "      <th>46044</th>\n",
       "      <td>0.0</td>\n",
       "      <td>1.0</td>\n",
       "      <td>0.0</td>\n",
       "    </tr>\n",
       "    <tr>\n",
       "      <th>43308</th>\n",
       "      <td>0.0</td>\n",
       "      <td>1.0</td>\n",
       "      <td>0.0</td>\n",
       "    </tr>\n",
       "    <tr>\n",
       "      <th>46497</th>\n",
       "      <td>0.0</td>\n",
       "      <td>0.0</td>\n",
       "      <td>1.0</td>\n",
       "    </tr>\n",
       "    <tr>\n",
       "      <th>43345</th>\n",
       "      <td>0.0</td>\n",
       "      <td>1.0</td>\n",
       "      <td>0.0</td>\n",
       "    </tr>\n",
       "  </tbody>\n",
       "</table>\n",
       "</div>"
      ],
      "text/plain": [
       "       Surface_Clay  Surface_Grass  Surface_Hard\n",
       "41984           0.0            0.0           1.0\n",
       "46044           0.0            1.0           0.0\n",
       "43308           0.0            1.0           0.0\n",
       "46497           0.0            0.0           1.0\n",
       "43345           0.0            1.0           0.0"
      ]
     },
     "execution_count": 25,
     "metadata": {},
     "output_type": "execute_result"
    }
   ],
   "source": [
    "dummy_ranks = pd.get_dummies(df1['Surface'], prefix='Surface')\n",
    "dummy_ranks.head()"
   ]
  },
  {
   "cell_type": "code",
   "execution_count": 26,
   "metadata": {
    "collapsed": false
   },
   "outputs": [
    {
     "data": {
      "text/html": [
       "<div>\n",
       "<table border=\"1\" class=\"dataframe\">\n",
       "  <thead>\n",
       "    <tr style=\"text-align: right;\">\n",
       "      <th></th>\n",
       "      <th>Date</th>\n",
       "      <th>WRank</th>\n",
       "      <th>LRank</th>\n",
       "      <th>win</th>\n",
       "      <th>P1</th>\n",
       "      <th>P2</th>\n",
       "      <th>Round_2</th>\n",
       "      <th>Round_3</th>\n",
       "      <th>Round_4</th>\n",
       "      <th>Round_5</th>\n",
       "      <th>Round_6</th>\n",
       "      <th>Round_7</th>\n",
       "      <th>Surface_Grass</th>\n",
       "      <th>Surface_Hard</th>\n",
       "    </tr>\n",
       "  </thead>\n",
       "  <tbody>\n",
       "    <tr>\n",
       "      <th>41984</th>\n",
       "      <td>2015-01-21</td>\n",
       "      <td>46</td>\n",
       "      <td>31</td>\n",
       "      <td>0</td>\n",
       "      <td>46</td>\n",
       "      <td>31</td>\n",
       "      <td>1</td>\n",
       "      <td>0</td>\n",
       "      <td>0</td>\n",
       "      <td>0</td>\n",
       "      <td>0</td>\n",
       "      <td>0</td>\n",
       "      <td>0</td>\n",
       "      <td>1</td>\n",
       "    </tr>\n",
       "    <tr>\n",
       "      <th>46044</th>\n",
       "      <td>2016-08-07</td>\n",
       "      <td>7</td>\n",
       "      <td>3</td>\n",
       "      <td>0</td>\n",
       "      <td>7</td>\n",
       "      <td>3</td>\n",
       "      <td>0</td>\n",
       "      <td>0</td>\n",
       "      <td>0</td>\n",
       "      <td>0</td>\n",
       "      <td>1</td>\n",
       "      <td>0</td>\n",
       "      <td>1</td>\n",
       "      <td>0</td>\n",
       "    </tr>\n",
       "    <tr>\n",
       "      <th>43308</th>\n",
       "      <td>2015-06-29</td>\n",
       "      <td>148</td>\n",
       "      <td>93</td>\n",
       "      <td>0</td>\n",
       "      <td>148</td>\n",
       "      <td>93</td>\n",
       "      <td>0</td>\n",
       "      <td>0</td>\n",
       "      <td>0</td>\n",
       "      <td>0</td>\n",
       "      <td>0</td>\n",
       "      <td>0</td>\n",
       "      <td>1</td>\n",
       "      <td>0</td>\n",
       "    </tr>\n",
       "    <tr>\n",
       "      <th>46497</th>\n",
       "      <td>2016-08-29</td>\n",
       "      <td>120</td>\n",
       "      <td>54</td>\n",
       "      <td>0</td>\n",
       "      <td>120</td>\n",
       "      <td>54</td>\n",
       "      <td>0</td>\n",
       "      <td>0</td>\n",
       "      <td>0</td>\n",
       "      <td>0</td>\n",
       "      <td>0</td>\n",
       "      <td>0</td>\n",
       "      <td>0</td>\n",
       "      <td>1</td>\n",
       "    </tr>\n",
       "    <tr>\n",
       "      <th>43345</th>\n",
       "      <td>2015-06-30</td>\n",
       "      <td>37</td>\n",
       "      <td>32</td>\n",
       "      <td>0</td>\n",
       "      <td>37</td>\n",
       "      <td>32</td>\n",
       "      <td>0</td>\n",
       "      <td>0</td>\n",
       "      <td>0</td>\n",
       "      <td>0</td>\n",
       "      <td>0</td>\n",
       "      <td>0</td>\n",
       "      <td>1</td>\n",
       "      <td>0</td>\n",
       "    </tr>\n",
       "  </tbody>\n",
       "</table>\n",
       "</div>"
      ],
      "text/plain": [
       "            Date  WRank  LRank  win   P1  P2  Round_2  Round_3  Round_4  \\\n",
       "41984 2015-01-21     46     31    0   46  31        1        0        0   \n",
       "46044 2016-08-07      7      3    0    7   3        0        0        0   \n",
       "43308 2015-06-29    148     93    0  148  93        0        0        0   \n",
       "46497 2016-08-29    120     54    0  120  54        0        0        0   \n",
       "43345 2015-06-30     37     32    0   37  32        0        0        0   \n",
       "\n",
       "       Round_5  Round_6  Round_7  Surface_Grass  Surface_Hard  \n",
       "41984        0        0        0              0             1  \n",
       "46044        0        1        0              1             0  \n",
       "43308        0        0        0              1             0  \n",
       "46497        0        0        0              0             1  \n",
       "43345        0        0        0              1             0  "
      ]
     },
     "execution_count": 26,
     "metadata": {},
     "output_type": "execute_result"
    }
   ],
   "source": [
    "df_2 = df1.join(dummy_ranks.ix[:, 'Surface_Grass':])\n",
    "df_2.drop(\"Surface\",axis = 1,inplace=True)\n",
    "df_2[['Surface_Grass','Surface_Hard']] = df_2[['Surface_Grass','Surface_Hard']].astype('int_')\n",
    "df_2.drop(\"Round\",axis = 1,inplace=True)\n",
    "df_2.head()"
   ]
  },
  {
   "cell_type": "markdown",
   "metadata": {},
   "source": [
    "We now take the logarithms of ${\\cal P}_1$ and ${\\cal P}_2$, then create a variable `D` "
   ]
  },
  {
   "cell_type": "code",
   "execution_count": 27,
   "metadata": {
    "collapsed": false
   },
   "outputs": [
    {
     "data": {
      "text/html": [
       "<div>\n",
       "<table border=\"1\" class=\"dataframe\">\n",
       "  <thead>\n",
       "    <tr style=\"text-align: right;\">\n",
       "      <th></th>\n",
       "      <th>Date</th>\n",
       "      <th>WRank</th>\n",
       "      <th>LRank</th>\n",
       "      <th>win</th>\n",
       "      <th>P1</th>\n",
       "      <th>P2</th>\n",
       "      <th>Round_2</th>\n",
       "      <th>Round_3</th>\n",
       "      <th>Round_4</th>\n",
       "      <th>Round_5</th>\n",
       "      <th>Round_6</th>\n",
       "      <th>Round_7</th>\n",
       "      <th>Surface_Grass</th>\n",
       "      <th>Surface_Hard</th>\n",
       "      <th>D</th>\n",
       "    </tr>\n",
       "  </thead>\n",
       "  <tbody>\n",
       "    <tr>\n",
       "      <th>41984</th>\n",
       "      <td>2015-01-21</td>\n",
       "      <td>46</td>\n",
       "      <td>31</td>\n",
       "      <td>0</td>\n",
       "      <td>5.523562</td>\n",
       "      <td>4.954196</td>\n",
       "      <td>1</td>\n",
       "      <td>0</td>\n",
       "      <td>0</td>\n",
       "      <td>0</td>\n",
       "      <td>0</td>\n",
       "      <td>0</td>\n",
       "      <td>0</td>\n",
       "      <td>1</td>\n",
       "      <td>0.569366</td>\n",
       "    </tr>\n",
       "    <tr>\n",
       "      <th>46044</th>\n",
       "      <td>2016-08-07</td>\n",
       "      <td>7</td>\n",
       "      <td>3</td>\n",
       "      <td>0</td>\n",
       "      <td>2.807355</td>\n",
       "      <td>1.584963</td>\n",
       "      <td>0</td>\n",
       "      <td>0</td>\n",
       "      <td>0</td>\n",
       "      <td>0</td>\n",
       "      <td>1</td>\n",
       "      <td>0</td>\n",
       "      <td>1</td>\n",
       "      <td>0</td>\n",
       "      <td>1.222392</td>\n",
       "    </tr>\n",
       "    <tr>\n",
       "      <th>43308</th>\n",
       "      <td>2015-06-29</td>\n",
       "      <td>148</td>\n",
       "      <td>93</td>\n",
       "      <td>0</td>\n",
       "      <td>7.209453</td>\n",
       "      <td>6.539159</td>\n",
       "      <td>0</td>\n",
       "      <td>0</td>\n",
       "      <td>0</td>\n",
       "      <td>0</td>\n",
       "      <td>0</td>\n",
       "      <td>0</td>\n",
       "      <td>1</td>\n",
       "      <td>0</td>\n",
       "      <td>0.670295</td>\n",
       "    </tr>\n",
       "    <tr>\n",
       "      <th>46497</th>\n",
       "      <td>2016-08-29</td>\n",
       "      <td>120</td>\n",
       "      <td>54</td>\n",
       "      <td>0</td>\n",
       "      <td>6.906891</td>\n",
       "      <td>5.754888</td>\n",
       "      <td>0</td>\n",
       "      <td>0</td>\n",
       "      <td>0</td>\n",
       "      <td>0</td>\n",
       "      <td>0</td>\n",
       "      <td>0</td>\n",
       "      <td>0</td>\n",
       "      <td>1</td>\n",
       "      <td>1.152003</td>\n",
       "    </tr>\n",
       "    <tr>\n",
       "      <th>43345</th>\n",
       "      <td>2015-06-30</td>\n",
       "      <td>37</td>\n",
       "      <td>32</td>\n",
       "      <td>0</td>\n",
       "      <td>5.209453</td>\n",
       "      <td>5.000000</td>\n",
       "      <td>0</td>\n",
       "      <td>0</td>\n",
       "      <td>0</td>\n",
       "      <td>0</td>\n",
       "      <td>0</td>\n",
       "      <td>0</td>\n",
       "      <td>1</td>\n",
       "      <td>0</td>\n",
       "      <td>0.209453</td>\n",
       "    </tr>\n",
       "  </tbody>\n",
       "</table>\n",
       "</div>"
      ],
      "text/plain": [
       "            Date  WRank  LRank  win        P1        P2  Round_2  Round_3  \\\n",
       "41984 2015-01-21     46     31    0  5.523562  4.954196        1        0   \n",
       "46044 2016-08-07      7      3    0  2.807355  1.584963        0        0   \n",
       "43308 2015-06-29    148     93    0  7.209453  6.539159        0        0   \n",
       "46497 2016-08-29    120     54    0  6.906891  5.754888        0        0   \n",
       "43345 2015-06-30     37     32    0  5.209453  5.000000        0        0   \n",
       "\n",
       "       Round_4  Round_5  Round_6  Round_7  Surface_Grass  Surface_Hard  \\\n",
       "41984        0        0        0        0              0             1   \n",
       "46044        0        0        1        0              1             0   \n",
       "43308        0        0        0        0              1             0   \n",
       "46497        0        0        0        0              0             1   \n",
       "43345        0        0        0        0              1             0   \n",
       "\n",
       "              D  \n",
       "41984  0.569366  \n",
       "46044  1.222392  \n",
       "43308  0.670295  \n",
       "46497  1.152003  \n",
       "43345  0.209453  "
      ]
     },
     "execution_count": 27,
     "metadata": {},
     "output_type": "execute_result"
    }
   ],
   "source": [
    "df4 = df_2.copy()\n",
    "df4['P1'] = np.log2(df4['P1'].astype('float64')) \n",
    "df4['P2'] = np.log2(df4['P2'].astype('float64')) \n",
    "df4['D'] = df4['P1'] - df4['P2']\n",
    "df4['D'] = np.absolute(df4['D'])\n",
    "df4.head()"
   ]
  },
  {
   "cell_type": "markdown",
   "metadata": {},
   "source": [
    "## Model 1: Logistic Regression"
   ]
  },
  {
   "cell_type": "markdown",
   "metadata": {},
   "source": [
    "We now use a logistic regression to study our data."
   ]
  },
  {
   "cell_type": "code",
   "execution_count": 28,
   "metadata": {
    "collapsed": false
   },
   "outputs": [
    {
     "data": {
      "image/png": "[encoded data removed]",
      "text/plain": [
       "<matplotlib.figure.Figure at 0x11cca9210>"
      ]
     },
     "metadata": {},
     "output_type": "display_data"
    }
   ],
   "source": [
    "import numpy as np\n",
    "import matplotlib.pyplot as plt\n",
    "# Logit Function\n",
    "def logit(x):\n",
    "    return np.exp(x)  / (1 + np.exp(x)) \n",
    "    \n",
    "x = np.linspace(-6,6,50, dtype=float)\n",
    "\n",
    "y = logit(x)\n",
    "\n",
    "plt.plot(x, y)\n",
    "plt.ylabel(\"Probability\")\n",
    "plt.show()\n"
   ]
  },
  {
   "cell_type": "code",
   "execution_count": 251,
   "metadata": {
    "collapsed": false
   },
   "outputs": [
    {
     "data": {
      "text/plain": [
       "['Date',\n",
       " 'WRank',\n",
       " 'LRank',\n",
       " 'win',\n",
       " 'P1',\n",
       " 'P2',\n",
       " 'Round_2',\n",
       " 'Round_3',\n",
       " 'Round_4',\n",
       " 'Round_5',\n",
       " 'Round_6',\n",
       " 'Round_7',\n",
       " 'Surface_Grass',\n",
       " 'Surface_Hard',\n",
       " 'D']"
      ]
     },
     "execution_count": 251,
     "metadata": {},
     "output_type": "execute_result"
    }
   ],
   "source": [
    "df4.columns.tolist()"
   ]
  },
  {
   "cell_type": "code",
   "execution_count": 29,
   "metadata": {
    "collapsed": true
   },
   "outputs": [],
   "source": [
    "feature_cols = ['Round_2',\n",
    " 'Round_3',\n",
    " 'Round_4',\n",
    " 'Round_5',\n",
    " 'Round_6',\n",
    " 'Round_7',\n",
    " 'Surface_Grass',\n",
    " 'Surface_Hard',\n",
    " 'D']"
   ]
  },
  {
   "cell_type": "code",
   "execution_count": 30,
   "metadata": {
    "collapsed": false
   },
   "outputs": [
    {
     "data": {
      "text/html": [
       "<div>\n",
       "<table border=\"1\" class=\"dataframe\">\n",
       "  <thead>\n",
       "    <tr style=\"text-align: right;\">\n",
       "      <th></th>\n",
       "      <th>Round_2</th>\n",
       "      <th>Round_3</th>\n",
       "      <th>Round_4</th>\n",
       "      <th>Round_5</th>\n",
       "      <th>Round_6</th>\n",
       "      <th>Round_7</th>\n",
       "      <th>Surface_Grass</th>\n",
       "      <th>Surface_Hard</th>\n",
       "      <th>D</th>\n",
       "    </tr>\n",
       "  </thead>\n",
       "  <tbody>\n",
       "    <tr>\n",
       "      <th>41984</th>\n",
       "      <td>1</td>\n",
       "      <td>0</td>\n",
       "      <td>0</td>\n",
       "      <td>0</td>\n",
       "      <td>0</td>\n",
       "      <td>0</td>\n",
       "      <td>0</td>\n",
       "      <td>1</td>\n",
       "      <td>0.569366</td>\n",
       "    </tr>\n",
       "    <tr>\n",
       "      <th>46044</th>\n",
       "      <td>0</td>\n",
       "      <td>0</td>\n",
       "      <td>0</td>\n",
       "      <td>0</td>\n",
       "      <td>1</td>\n",
       "      <td>0</td>\n",
       "      <td>1</td>\n",
       "      <td>0</td>\n",
       "      <td>1.222392</td>\n",
       "    </tr>\n",
       "    <tr>\n",
       "      <th>43308</th>\n",
       "      <td>0</td>\n",
       "      <td>0</td>\n",
       "      <td>0</td>\n",
       "      <td>0</td>\n",
       "      <td>0</td>\n",
       "      <td>0</td>\n",
       "      <td>1</td>\n",
       "      <td>0</td>\n",
       "      <td>0.670295</td>\n",
       "    </tr>\n",
       "    <tr>\n",
       "      <th>46497</th>\n",
       "      <td>0</td>\n",
       "      <td>0</td>\n",
       "      <td>0</td>\n",
       "      <td>0</td>\n",
       "      <td>0</td>\n",
       "      <td>0</td>\n",
       "      <td>0</td>\n",
       "      <td>1</td>\n",
       "      <td>1.152003</td>\n",
       "    </tr>\n",
       "    <tr>\n",
       "      <th>43345</th>\n",
       "      <td>0</td>\n",
       "      <td>0</td>\n",
       "      <td>0</td>\n",
       "      <td>0</td>\n",
       "      <td>0</td>\n",
       "      <td>0</td>\n",
       "      <td>1</td>\n",
       "      <td>0</td>\n",
       "      <td>0.209453</td>\n",
       "    </tr>\n",
       "  </tbody>\n",
       "</table>\n",
       "</div>"
      ],
      "text/plain": [
       "       Round_2  Round_3  Round_4  Round_5  Round_6  Round_7  Surface_Grass  \\\n",
       "41984        1        0        0        0        0        0              0   \n",
       "46044        0        0        0        0        1        0              1   \n",
       "43308        0        0        0        0        0        0              1   \n",
       "46497        0        0        0        0        0        0              0   \n",
       "43345        0        0        0        0        0        0              1   \n",
       "\n",
       "       Surface_Hard         D  \n",
       "41984             1  0.569366  \n",
       "46044             0  1.222392  \n",
       "43308             0  0.670295  \n",
       "46497             1  1.152003  \n",
       "43345             0  0.209453  "
      ]
     },
     "execution_count": 30,
     "metadata": {},
     "output_type": "execute_result"
    }
   ],
   "source": [
    "dfnew = df4.copy()\n",
    "dfnew[feature_cols].head()"
   ]
  },
  {
   "cell_type": "code",
   "execution_count": 31,
   "metadata": {
    "collapsed": false
   },
   "outputs": [],
   "source": [
    "X = dfnew[feature_cols]\n",
    "y = dfnew.win\n",
    "#pd.value_counts(dfnew['Best_of_5'].values, sort=False)"
   ]
  },
  {
   "cell_type": "code",
   "execution_count": 32,
   "metadata": {
    "collapsed": false
   },
   "outputs": [
    {
     "data": {
      "text/plain": [
       "LogisticRegression(C=1.0, class_weight=None, dual=False, fit_intercept=True,\n",
       "          intercept_scaling=1, max_iter=100, multi_class='ovr', n_jobs=1,\n",
       "          penalty='l2', random_state=None, solver='liblinear', tol=0.0001,\n",
       "          verbose=0, warm_start=False)"
      ]
     },
     "execution_count": 32,
     "metadata": {},
     "output_type": "execute_result"
    }
   ],
   "source": [
    "from sklearn.cross_validation import train_test_split\n",
    "X_train, X_test, y_train, y_test = train_test_split(X, y, random_state=0)\n",
    "from sklearn.linear_model import LogisticRegression\n",
    "logreg = LogisticRegression()\n",
    "logreg.fit(X_train, y_train)"
   ]
  },
  {
   "cell_type": "code",
   "execution_count": 33,
   "metadata": {
    "collapsed": false
   },
   "outputs": [
    {
     "name": "stdout",
     "output_type": "stream",
     "text": [
      "0.707070707071\n"
     ]
    }
   ],
   "source": [
    "y_pred_class = logreg.predict(X_test)\n",
    "from sklearn import metrics\n",
    "print(metrics.accuracy_score(y_test, y_pred_class))"
   ]
  },
  {
   "cell_type": "code",
   "execution_count": 34,
   "metadata": {
    "collapsed": false
   },
   "outputs": [
    {
     "name": "stdout",
     "output_type": "stream",
     "text": [
      "True: [1 1 1 0 0 1 1 0 1 1 1 0 0 0 1 0 0 1 1 0 0 0 0 0 1 0 1 0 0 0 0 0 1 1 1 1 0\n",
      " 1 1 0]\n",
      "Pred: [0 0 1 0 0 1 1 0 1 1 0 1 1 0 0 0 0 1 1 1 0 0 1 0 1 0 1 0 0 0 0 0 1 0 1 0 0\n",
      " 0 0 0]\n"
     ]
    }
   ],
   "source": [
    "from __future__ import print_function\n",
    "print('True:', y_test.values[0:40])\n",
    "print('Pred:', y_pred_class[0:40])"
   ]
  },
  {
   "cell_type": "code",
   "execution_count": 35,
   "metadata": {
    "collapsed": false
   },
   "outputs": [
    {
     "data": {
      "text/plain": [
       "0.75469387755102035"
      ]
     },
     "execution_count": 35,
     "metadata": {},
     "output_type": "execute_result"
    }
   ],
   "source": [
    "y_pred_prob = logreg.predict_proba(X_test)[:, 1]\n",
    "auc_score = metrics.roc_auc_score(y_test, y_pred_prob)\n",
    "auc_score"
   ]
  },
  {
   "cell_type": "code",
   "execution_count": 36,
   "metadata": {
    "collapsed": false
   },
   "outputs": [
    {
     "data": {
      "image/png": "[encoded data removed]",
      "text/plain": [
       "<matplotlib.figure.Figure at 0x11d06f750>"
      ]
     },
     "metadata": {},
     "output_type": "display_data"
    }
   ],
   "source": [
    "y_pred_prob = logreg.predict_proba(X_test)[:, 1]\n",
    "auc_score = metrics.roc_auc_score(y_test, y_pred_prob)\n",
    "auc_score\n",
    "fpr, tpr, thresholds = metrics.roc_curve(y_test, y_pred_prob)\n",
    "fig = plt.plot(fpr, tpr,label='ROC curve (area = %0.2f)' % auc_score )\n",
    "plt.plot([0, 1], [0, 1], 'k--')\n",
    "plt.xlim([0.0, 1.0])\n",
    "plt.ylim([0.0, 1.0])\n",
    "plt.title('ROC curve for win classifier')\n",
    "plt.xlabel('False Positive Rate (1 - Specificity)')\n",
    "plt.ylabel('True Positive Rate (Sensitivity)')\n",
    "plt.legend(loc=\"lower right\")\n",
    "plt.grid(True)"
   ]
  },
  {
   "cell_type": "code",
   "execution_count": 37,
   "metadata": {
    "collapsed": false
   },
   "outputs": [
    {
     "name": "stdout",
     "output_type": "stream",
     "text": [
      "Optimization terminated successfully.\n",
      "         Current function value: 0.584223\n",
      "         Iterations 6\n"
     ]
    },
    {
     "data": {
      "text/html": [
       "<table class=\"simpletable\">\n",
       "<caption>Logit Regression Results</caption>\n",
       "<tr>\n",
       "  <th>Dep. Variable:</th>        <td>win</td>       <th>  No. Observations:  </th>  <td>   396</td>  \n",
       "</tr>\n",
       "<tr>\n",
       "  <th>Model:</th>               <td>Logit</td>      <th>  Df Residuals:      </th>  <td>   386</td>  \n",
       "</tr>\n",
       "<tr>\n",
       "  <th>Method:</th>               <td>MLE</td>       <th>  Df Model:          </th>  <td>     9</td>  \n",
       "</tr>\n",
       "<tr>\n",
       "  <th>Date:</th>          <td>Thu, 10 Nov 2016</td> <th>  Pseudo R-squ.:     </th>  <td>0.1571</td>  \n",
       "</tr>\n",
       "<tr>\n",
       "  <th>Time:</th>              <td>11:45:45</td>     <th>  Log-Likelihood:    </th> <td> -231.35</td> \n",
       "</tr>\n",
       "<tr>\n",
       "  <th>converged:</th>           <td>True</td>       <th>  LL-Null:           </th> <td> -274.49</td> \n",
       "</tr>\n",
       "<tr>\n",
       "  <th> </th>                      <td> </td>        <th>  LLR p-value:       </th> <td>9.105e-15</td>\n",
       "</tr>\n",
       "</table>\n",
       "<table class=\"simpletable\">\n",
       "<tr>\n",
       "        <td></td>           <th>coef</th>     <th>std err</th>      <th>z</th>      <th>P>|z|</th> <th>[95.0% Conf. Int.]</th> \n",
       "</tr>\n",
       "<tr>\n",
       "  <th>const</th>         <td>   -1.4661</td> <td>    0.292</td> <td>   -5.014</td> <td> 0.000</td> <td>   -2.039    -0.893</td>\n",
       "</tr>\n",
       "<tr>\n",
       "  <th>Round_2</th>       <td>   -0.3527</td> <td>    0.270</td> <td>   -1.306</td> <td> 0.192</td> <td>   -0.882     0.177</td>\n",
       "</tr>\n",
       "<tr>\n",
       "  <th>Round_3</th>       <td>   -0.2240</td> <td>    0.364</td> <td>   -0.615</td> <td> 0.538</td> <td>   -0.937     0.489</td>\n",
       "</tr>\n",
       "<tr>\n",
       "  <th>Round_4</th>       <td>    0.1382</td> <td>    0.449</td> <td>    0.308</td> <td> 0.758</td> <td>   -0.742     1.018</td>\n",
       "</tr>\n",
       "<tr>\n",
       "  <th>Round_5</th>       <td>   -1.2500</td> <td>    0.841</td> <td>   -1.486</td> <td> 0.137</td> <td>   -2.899     0.399</td>\n",
       "</tr>\n",
       "<tr>\n",
       "  <th>Round_6</th>       <td>    2.0958</td> <td>    1.103</td> <td>    1.900</td> <td> 0.057</td> <td>   -0.066     4.257</td>\n",
       "</tr>\n",
       "<tr>\n",
       "  <th>Round_7</th>       <td>    0.4501</td> <td>    0.959</td> <td>    0.470</td> <td> 0.639</td> <td>   -1.429     2.329</td>\n",
       "</tr>\n",
       "<tr>\n",
       "  <th>Surface_Grass</th> <td>    0.5040</td> <td>    0.316</td> <td>    1.597</td> <td> 0.110</td> <td>   -0.115     1.123</td>\n",
       "</tr>\n",
       "<tr>\n",
       "  <th>Surface_Hard</th>  <td>    0.3538</td> <td>    0.276</td> <td>    1.280</td> <td> 0.200</td> <td>   -0.188     0.895</td>\n",
       "</tr>\n",
       "<tr>\n",
       "  <th>D</th>             <td>    0.7876</td> <td>    0.108</td> <td>    7.313</td> <td> 0.000</td> <td>    0.576     0.999</td>\n",
       "</tr>\n",
       "</table>"
      ],
      "text/plain": [
       "<class 'statsmodels.iolib.summary.Summary'>\n",
       "\"\"\"\n",
       "                           Logit Regression Results                           \n",
       "==============================================================================\n",
       "Dep. Variable:                    win   No. Observations:                  396\n",
       "Model:                          Logit   Df Residuals:                      386\n",
       "Method:                           MLE   Df Model:                            9\n",
       "Date:                Thu, 10 Nov 2016   Pseudo R-squ.:                  0.1571\n",
       "Time:                        11:45:45   Log-Likelihood:                -231.35\n",
       "converged:                       True   LL-Null:                       -274.49\n",
       "                                        LLR p-value:                 9.105e-15\n",
       "=================================================================================\n",
       "                    coef    std err          z      P>|z|      [95.0% Conf. Int.]\n",
       "---------------------------------------------------------------------------------\n",
       "const            -1.4661      0.292     -5.014      0.000        -2.039    -0.893\n",
       "Round_2          -0.3527      0.270     -1.306      0.192        -0.882     0.177\n",
       "Round_3          -0.2240      0.364     -0.615      0.538        -0.937     0.489\n",
       "Round_4           0.1382      0.449      0.308      0.758        -0.742     1.018\n",
       "Round_5          -1.2500      0.841     -1.486      0.137        -2.899     0.399\n",
       "Round_6           2.0958      1.103      1.900      0.057        -0.066     4.257\n",
       "Round_7           0.4501      0.959      0.470      0.639        -1.429     2.329\n",
       "Surface_Grass     0.5040      0.316      1.597      0.110        -0.115     1.123\n",
       "Surface_Hard      0.3538      0.276      1.280      0.200        -0.188     0.895\n",
       "D                 0.7876      0.108      7.313      0.000         0.576     0.999\n",
       "=================================================================================\n",
       "\"\"\""
      ]
     },
     "execution_count": 37,
     "metadata": {},
     "output_type": "execute_result"
    }
   ],
   "source": [
    "import statsmodels.api as sm\n",
    "\n",
    "X = dfnew[feature_cols]\n",
    "X = sm.add_constant(X)\n",
    "y = dfnew['win']\n",
    "\n",
    "lm = sm.Logit(y, X)\n",
    "result = lm.fit()\n",
    "\n",
    "result.summary()"
   ]
  },
  {
   "cell_type": "code",
   "execution_count": 38,
   "metadata": {
    "collapsed": false
   },
   "outputs": [
    {
     "data": {
      "text/plain": [
       "0.72848476454293631"
      ]
     },
     "execution_count": 38,
     "metadata": {},
     "output_type": "execute_result"
    }
   ],
   "source": [
    "from sklearn.cross_validation import cross_val_score\n",
    "cross_val_score(logreg, X, y, cv=10, scoring='roc_auc').mean()"
   ]
  },
  {
   "cell_type": "code",
   "execution_count": 40,
   "metadata": {
    "collapsed": false
   },
   "outputs": [
    {
     "data": {
      "image/png": "[encoded data removed]",
      "text/plain": [
       "<matplotlib.figure.Figure at 0x11cc4a210>"
      ]
     },
     "metadata": {},
     "output_type": "display_data"
    }
   ],
   "source": [
    "logreg.fit(dfnew[[\"D\"]],dfnew[\"win\"])\n",
    "pred_probs = logreg.predict_proba(dfnew[[\"D\"]])\n",
    "plt.scatter(dfnew[\"D\"], pred_probs[:,1])\n",
    "plt.title('Win Probability for 5 sets matches')\n",
    "plt.xlabel('D')\n",
    "plt.ylabel('Win Probability for 5 sets matches')\n",
    "plt.legend(loc=\"lower right\")\n",
    "plt.grid(True)"
   ]
  },
  {
   "cell_type": "markdown",
   "metadata": {},
   "source": [
    "Decision Trees and Random Forests\n",
    "-------"
   ]
  },
  {
   "cell_type": "markdown",
   "metadata": {},
   "source": [
    "We now build a decision tree model to predict the upsets likelihood of a given match"
   ]
  },
  {
   "cell_type": "code",
   "execution_count": 42,
   "metadata": {
    "collapsed": false
   },
   "outputs": [
    {
     "data": {
      "text/plain": [
       "DecisionTreeClassifier(class_weight=None, criterion='gini', max_depth=None,\n",
       "            max_features=None, max_leaf_nodes=None, min_samples_leaf=1,\n",
       "            min_samples_split=2, min_weight_fraction_leaf=0.0,\n",
       "            presort=False, random_state=None, splitter='best')"
      ]
     },
     "execution_count": 42,
     "metadata": {},
     "output_type": "execute_result"
    }
   ],
   "source": [
    "from sklearn.tree import DecisionTreeClassifier\n",
    "\n",
    "model = DecisionTreeClassifier()\n",
    "\n",
    "X = dfnew[feature_cols].dropna()\n",
    "y = dfnew['win']\n",
    "\n",
    "\n",
    "model.fit(X, y)"
   ]
  },
  {
   "cell_type": "code",
   "execution_count": 43,
   "metadata": {
    "collapsed": false
   },
   "outputs": [
    {
     "name": "stdout",
     "output_type": "stream",
     "text": [
      "AUC [ 0.5875      0.5875      0.5625      0.6025641   0.50756082], Average AUC 0.569524983563\n"
     ]
    }
   ],
   "source": [
    "from sklearn.cross_validation import cross_val_score\n",
    "\n",
    "scores = cross_val_score(model, X, y, scoring='roc_auc', cv=5)\n",
    "print('AUC {}, Average AUC {}'.format(scores, scores.mean()))"
   ]
  },
  {
   "cell_type": "code",
   "execution_count": 44,
   "metadata": {
    "collapsed": false
   },
   "outputs": [
    {
     "name": "stdout",
     "output_type": "stream",
     "text": [
      "CV AUC [ 0.66625     0.720625    0.6090625   0.74621959  0.55555556], Average AUC 0.659542529586\n"
     ]
    }
   ],
   "source": [
    "model = DecisionTreeClassifier(\n",
    "                max_depth = 4,\n",
    "                min_samples_leaf = 6)\n",
    "\n",
    "model.fit(X, y)\n",
    "scores = cross_val_score(model, X, y, scoring='roc_auc', cv=5)\n",
    "print('CV AUC {}, Average AUC {}'.format(scores, scores.mean()))"
   ]
  },
  {
   "cell_type": "code",
   "execution_count": 45,
   "metadata": {
    "collapsed": false
   },
   "outputs": [
    {
     "data": {
      "text/plain": [
       "RandomForestClassifier(bootstrap=True, class_weight=None, criterion='gini',\n",
       "            max_depth=None, max_features='auto', max_leaf_nodes=None,\n",
       "            min_samples_leaf=1, min_samples_split=2,\n",
       "            min_weight_fraction_leaf=0.0, n_estimators=200, n_jobs=1,\n",
       "            oob_score=False, random_state=None, verbose=0,\n",
       "            warm_start=False)"
      ]
     },
     "execution_count": 45,
     "metadata": {},
     "output_type": "execute_result"
    }
   ],
   "source": [
    "from sklearn.ensemble import RandomForestClassifier\n",
    "from sklearn.cross_validation import cross_val_score\n",
    "\n",
    "X = dfnew[feature_cols].dropna()\n",
    "y = dfnew['win']\n",
    "\n",
    "model = RandomForestClassifier(n_estimators = 200)\n",
    "    \n",
    "model.fit(X, y)\n",
    "\n"
   ]
  },
  {
   "cell_type": "code",
   "execution_count": 46,
   "metadata": {
    "collapsed": false
   },
   "outputs": [
    {
     "data": {
      "text/html": [
       "<div>\n",
       "<table border=\"1\" class=\"dataframe\">\n",
       "  <thead>\n",
       "    <tr style=\"text-align: right;\">\n",
       "      <th></th>\n",
       "      <th>Features</th>\n",
       "      <th>Importance Score</th>\n",
       "    </tr>\n",
       "  </thead>\n",
       "  <tbody>\n",
       "    <tr>\n",
       "      <th>8</th>\n",
       "      <td>D</td>\n",
       "      <td>0.850724</td>\n",
       "    </tr>\n",
       "    <tr>\n",
       "      <th>7</th>\n",
       "      <td>Surface_Hard</td>\n",
       "      <td>0.025179</td>\n",
       "    </tr>\n",
       "    <tr>\n",
       "      <th>0</th>\n",
       "      <td>Round_2</td>\n",
       "      <td>0.025132</td>\n",
       "    </tr>\n",
       "    <tr>\n",
       "      <th>6</th>\n",
       "      <td>Surface_Grass</td>\n",
       "      <td>0.022049</td>\n",
       "    </tr>\n",
       "    <tr>\n",
       "      <th>1</th>\n",
       "      <td>Round_3</td>\n",
       "      <td>0.017896</td>\n",
       "    </tr>\n",
       "    <tr>\n",
       "      <th>2</th>\n",
       "      <td>Round_4</td>\n",
       "      <td>0.016429</td>\n",
       "    </tr>\n",
       "    <tr>\n",
       "      <th>4</th>\n",
       "      <td>Round_6</td>\n",
       "      <td>0.016345</td>\n",
       "    </tr>\n",
       "    <tr>\n",
       "      <th>5</th>\n",
       "      <td>Round_7</td>\n",
       "      <td>0.013936</td>\n",
       "    </tr>\n",
       "    <tr>\n",
       "      <th>3</th>\n",
       "      <td>Round_5</td>\n",
       "      <td>0.012309</td>\n",
       "    </tr>\n",
       "  </tbody>\n",
       "</table>\n",
       "</div>"
      ],
      "text/plain": [
       "        Features  Importance Score\n",
       "8              D          0.850724\n",
       "7   Surface_Hard          0.025179\n",
       "0        Round_2          0.025132\n",
       "6  Surface_Grass          0.022049\n",
       "1        Round_3          0.017896\n",
       "2        Round_4          0.016429\n",
       "4        Round_6          0.016345\n",
       "5        Round_7          0.013936\n",
       "3        Round_5          0.012309"
      ]
     },
     "execution_count": 46,
     "metadata": {},
     "output_type": "execute_result"
    }
   ],
   "source": [
    "features = X.columns\n",
    "feature_importances = model.feature_importances_\n",
    "\n",
    "features_df = pd.DataFrame({'Features': features, 'Importance Score': feature_importances})\n",
    "features_df.sort_values('Importance Score', inplace=True, ascending=False)\n",
    "\n",
    "features_df"
   ]
  },
  {
   "cell_type": "code",
   "execution_count": 47,
   "metadata": {
    "collapsed": false
   },
   "outputs": [
    {
     "name": "stderr",
     "output_type": "stream",
     "text": [
      "/Users/marcotavora/anaconda/lib/python2.7/site-packages/ipykernel/__main__.py:2: FutureWarning: sort is deprecated, use sort_values(inplace=True) for INPLACE sorting\n",
      "  from ipykernel import kernelapp as app\n"
     ]
    },
    {
     "data": {
      "text/plain": [
       "<matplotlib.axes._subplots.AxesSubplot at 0x1198f9d50>"
      ]
     },
     "execution_count": 47,
     "metadata": {},
     "output_type": "execute_result"
    },
    {
     "data": {
      "image/png": "[encoded data removed]",
      "text/plain": [
       "<matplotlib.figure.Figure at 0x11c00add0>"
      ]
     },
     "metadata": {},
     "output_type": "display_data"
    }
   ],
   "source": [
    "feature_importances = pd.Series(model.feature_importances_, index=X.columns)\n",
    "feature_importances.sort()\n",
    "feature_importances.plot(kind=\"barh\", figsize=(7,6))"
   ]
  },
  {
   "cell_type": "code",
   "execution_count": 48,
   "metadata": {
    "collapsed": false
   },
   "outputs": [
    {
     "name": "stdout",
     "output_type": "stream",
     "text": [
      "AUC [ 0.72956841  0.66758494  0.64152893], Average AUC 0.679560759106\n",
      "n trees: 1, CV AUC [ 0.65151515  0.66666667  0.5632461 ], Average AUC 0.627142638506\n",
      "n trees: 11, CV AUC [ 0.74437557  0.64543159  0.62775482], Average AUC 0.672520661157\n",
      "n trees: 21, CV AUC [ 0.71613866  0.65381084  0.63636364], Average AUC 0.668771043771\n",
      "n trees: 31, CV AUC [ 0.72623967  0.67229109  0.64577594], Average AUC 0.681435567799\n",
      "n trees: 41, CV AUC [ 0.73783287  0.65048209  0.64015152], Average AUC 0.676155494337\n",
      "n trees: 51, CV AUC [ 0.72463269  0.65438476  0.64290634], Average AUC 0.673974594429\n",
      "n trees: 61, CV AUC [ 0.71705693  0.66069789  0.65587695], Average AUC 0.677877257423\n",
      "n trees: 71, CV AUC [ 0.73519284  0.66609275  0.64623508], Average AUC 0.682506887052\n",
      "n trees: 81, CV AUC [ 0.72945363  0.65943526  0.62775482], Average AUC 0.672214569942\n",
      "n trees: 91, CV AUC [ 0.74368687  0.67171717  0.63429752], Average AUC 0.683233853688\n"
     ]
    }
   ],
   "source": [
    "from sklearn.cross_validation import cross_val_score\n",
    "\n",
    "scores = cross_val_score(model, X, y, scoring='roc_auc')\n",
    "print('AUC {}, Average AUC {}'.format(scores, scores.mean()))\n",
    "\n",
    "for n_trees in range(1, 100, 10):\n",
    "    model = RandomForestClassifier(n_estimators = n_trees)\n",
    "    scores = cross_val_score(model, X, y, scoring='roc_auc')\n",
    "    print('n trees: {}, CV AUC {}, Average AUC {}'.format(n_trees, scores, scores.mean()))"
   ]
  },
  {
   "cell_type": "markdown",
   "metadata": {
    "collapsed": true
   },
   "source": [
    "##  Best_of = 3\n",
    "We now restrict our analysis to matches of Best_of = 3. "
   ]
  },
  {
   "cell_type": "code",
   "execution_count": 189,
   "metadata": {
    "collapsed": false
   },
   "outputs": [
    {
     "data": {
      "text/html": [
       "<div>\n",
       "<table border=\"1\" class=\"dataframe\">\n",
       "  <thead>\n",
       "    <tr style=\"text-align: right;\">\n",
       "      <th></th>\n",
       "      <th>Date</th>\n",
       "      <th>Series</th>\n",
       "      <th>Surface</th>\n",
       "      <th>Round</th>\n",
       "      <th>Best_of</th>\n",
       "      <th>WRank</th>\n",
       "      <th>LRank</th>\n",
       "      <th>win</th>\n",
       "    </tr>\n",
       "  </thead>\n",
       "  <tbody>\n",
       "    <tr>\n",
       "      <th>39530</th>\n",
       "      <td>2014-12-02</td>\n",
       "      <td>ATP250</td>\n",
       "      <td>Clay</td>\n",
       "      <td>1st Round</td>\n",
       "      <td>3</td>\n",
       "      <td>92</td>\n",
       "      <td>42</td>\n",
       "      <td>0</td>\n",
       "    </tr>\n",
       "    <tr>\n",
       "      <th>39531</th>\n",
       "      <td>2014-12-02</td>\n",
       "      <td>ATP250</td>\n",
       "      <td>Clay</td>\n",
       "      <td>1st Round</td>\n",
       "      <td>3</td>\n",
       "      <td>45</td>\n",
       "      <td>78</td>\n",
       "      <td>1</td>\n",
       "    </tr>\n",
       "    <tr>\n",
       "      <th>39532</th>\n",
       "      <td>2014-12-02</td>\n",
       "      <td>ATP250</td>\n",
       "      <td>Clay</td>\n",
       "      <td>1st Round</td>\n",
       "      <td>3</td>\n",
       "      <td>53</td>\n",
       "      <td>230</td>\n",
       "      <td>1</td>\n",
       "    </tr>\n",
       "    <tr>\n",
       "      <th>39533</th>\n",
       "      <td>2014-12-02</td>\n",
       "      <td>ATP250</td>\n",
       "      <td>Clay</td>\n",
       "      <td>1st Round</td>\n",
       "      <td>3</td>\n",
       "      <td>84</td>\n",
       "      <td>165</td>\n",
       "      <td>1</td>\n",
       "    </tr>\n",
       "    <tr>\n",
       "      <th>39534</th>\n",
       "      <td>2014-12-02</td>\n",
       "      <td>ATP250</td>\n",
       "      <td>Clay</td>\n",
       "      <td>1st Round</td>\n",
       "      <td>3</td>\n",
       "      <td>18</td>\n",
       "      <td>111</td>\n",
       "      <td>1</td>\n",
       "    </tr>\n",
       "  </tbody>\n",
       "</table>\n",
       "</div>"
      ],
      "text/plain": [
       "            Date  Series Surface      Round  Best_of  WRank  LRank  win\n",
       "39530 2014-12-02  ATP250    Clay  1st Round        3     92     42    0\n",
       "39531 2014-12-02  ATP250    Clay  1st Round        3     45     78    1\n",
       "39532 2014-12-02  ATP250    Clay  1st Round        3     53    230    1\n",
       "39533 2014-12-02  ATP250    Clay  1st Round        3     84    165    1\n",
       "39534 2014-12-02  ATP250    Clay  1st Round        3     18    111    1"
      ]
     },
     "execution_count": 189,
     "metadata": {},
     "output_type": "execute_result"
    }
   ],
   "source": [
    "import pandas as pd\n",
    "df_atp = pd.read_csv('Data.csv')\n",
    "df_atp['Date'] = pd.to_datetime(df_atp['Date']) \n",
    "# Restricing dates\n",
    "df_atp = df_atp.loc[(df_atp['Date'] > '2014-11-09') & (df_atp['Date'] <= '2016-11-09')]\n",
    "# Keeping only completed matches\n",
    "df_atp = df_atp[df_atp['Comment'] == 'Completed'].drop(\"Comment\",axis = 1)\n",
    "# Rename Best of to Best_of\n",
    "df_atp.rename(columns = {'Best of':'Best_of'},inplace=True)\n",
    "# Choosing features\n",
    "cols_to_keep = ['Date','Series','Surface', 'Round','Best_of', 'WRank','LRank']\n",
    "# Dropping NaN\n",
    "df_atp = df_atp[cols_to_keep].dropna()\n",
    "# Dropping errors in the dataset and unimportant entries (e.g. there are very few entries for Masters Cup)\n",
    "df_atp = df_atp[(df_atp['LRank'] != 'NR') & (df_atp['WRank'] != 'NR') & (df_atp['Series'] != 'Masters Cup')]\n",
    "df_atp[['Best_of','WRank','LRank']] = df_atp[['Best_of','WRank','LRank']].astype(int)\n",
    "def win(x):\n",
    "    if x > 0:\n",
    "        return 0\n",
    "    elif x <= 0:\n",
    "        return 1  \n",
    "    \n",
    "df_atp['win'] = (df_atp['WRank'] - df_atp['LRank']).apply(win)\n",
    "df_atp.head()"
   ]
  },
  {
   "cell_type": "code",
   "execution_count": 190,
   "metadata": {
    "collapsed": false
   },
   "outputs": [
    {
     "data": {
      "text/html": [
       "<div>\n",
       "<table border=\"1\" class=\"dataframe\">\n",
       "  <thead>\n",
       "    <tr style=\"text-align: right;\">\n",
       "      <th></th>\n",
       "      <th>Date</th>\n",
       "      <th>Series</th>\n",
       "      <th>Surface</th>\n",
       "      <th>Round</th>\n",
       "      <th>Best_of</th>\n",
       "      <th>WRank</th>\n",
       "      <th>LRank</th>\n",
       "      <th>win</th>\n",
       "    </tr>\n",
       "  </thead>\n",
       "  <tbody>\n",
       "    <tr>\n",
       "      <th>39530</th>\n",
       "      <td>2014-12-02</td>\n",
       "      <td>ATP250</td>\n",
       "      <td>Clay</td>\n",
       "      <td>1st Round</td>\n",
       "      <td>3</td>\n",
       "      <td>92</td>\n",
       "      <td>42</td>\n",
       "      <td>0</td>\n",
       "    </tr>\n",
       "    <tr>\n",
       "      <th>39531</th>\n",
       "      <td>2014-12-02</td>\n",
       "      <td>ATP250</td>\n",
       "      <td>Clay</td>\n",
       "      <td>1st Round</td>\n",
       "      <td>3</td>\n",
       "      <td>45</td>\n",
       "      <td>78</td>\n",
       "      <td>1</td>\n",
       "    </tr>\n",
       "    <tr>\n",
       "      <th>39537</th>\n",
       "      <td>2014-12-02</td>\n",
       "      <td>ATP250</td>\n",
       "      <td>Clay</td>\n",
       "      <td>2nd Round</td>\n",
       "      <td>3</td>\n",
       "      <td>14</td>\n",
       "      <td>58</td>\n",
       "      <td>1</td>\n",
       "    </tr>\n",
       "    <tr>\n",
       "      <th>39560</th>\n",
       "      <td>2014-12-02</td>\n",
       "      <td>ATP250</td>\n",
       "      <td>Hard</td>\n",
       "      <td>1st Round</td>\n",
       "      <td>3</td>\n",
       "      <td>96</td>\n",
       "      <td>56</td>\n",
       "      <td>0</td>\n",
       "    </tr>\n",
       "    <tr>\n",
       "      <th>39563</th>\n",
       "      <td>2014-12-02</td>\n",
       "      <td>ATP250</td>\n",
       "      <td>Hard</td>\n",
       "      <td>2nd Round</td>\n",
       "      <td>3</td>\n",
       "      <td>85</td>\n",
       "      <td>81</td>\n",
       "      <td>0</td>\n",
       "    </tr>\n",
       "  </tbody>\n",
       "</table>\n",
       "</div>"
      ],
      "text/plain": [
       "            Date  Series Surface      Round  Best_of  WRank  LRank  win\n",
       "39530 2014-12-02  ATP250    Clay  1st Round        3     92     42    0\n",
       "39531 2014-12-02  ATP250    Clay  1st Round        3     45     78    1\n",
       "39537 2014-12-02  ATP250    Clay  2nd Round        3     14     58    1\n",
       "39560 2014-12-02  ATP250    Hard  1st Round        3     96     56    0\n",
       "39563 2014-12-02  ATP250    Hard  2nd Round        3     85     81    0"
      ]
     },
     "execution_count": 190,
     "metadata": {},
     "output_type": "execute_result"
    }
   ],
   "source": [
    "newdf = df_atp.copy()\n",
    "newdf2 = newdf[(newdf['WRank'] <= 100) & (newdf['LRank'] <= 100)]\n",
    "newdf2.head()"
   ]
  },
  {
   "cell_type": "code",
   "execution_count": 191,
   "metadata": {
    "collapsed": false
   },
   "outputs": [
    {
     "data": {
      "text/html": [
       "<div>\n",
       "<table border=\"1\" class=\"dataframe\">\n",
       "  <thead>\n",
       "    <tr style=\"text-align: right;\">\n",
       "      <th></th>\n",
       "      <th>Date</th>\n",
       "      <th>Surface</th>\n",
       "      <th>Round</th>\n",
       "      <th>WRank</th>\n",
       "      <th>LRank</th>\n",
       "      <th>win</th>\n",
       "    </tr>\n",
       "  </thead>\n",
       "  <tbody>\n",
       "    <tr>\n",
       "      <th>39530</th>\n",
       "      <td>2014-12-02</td>\n",
       "      <td>Clay</td>\n",
       "      <td>1st Round</td>\n",
       "      <td>92</td>\n",
       "      <td>42</td>\n",
       "      <td>0</td>\n",
       "    </tr>\n",
       "    <tr>\n",
       "      <th>39531</th>\n",
       "      <td>2014-12-02</td>\n",
       "      <td>Clay</td>\n",
       "      <td>1st Round</td>\n",
       "      <td>45</td>\n",
       "      <td>78</td>\n",
       "      <td>1</td>\n",
       "    </tr>\n",
       "    <tr>\n",
       "      <th>39537</th>\n",
       "      <td>2014-12-02</td>\n",
       "      <td>Clay</td>\n",
       "      <td>2nd Round</td>\n",
       "      <td>14</td>\n",
       "      <td>58</td>\n",
       "      <td>1</td>\n",
       "    </tr>\n",
       "    <tr>\n",
       "      <th>39560</th>\n",
       "      <td>2014-12-02</td>\n",
       "      <td>Hard</td>\n",
       "      <td>1st Round</td>\n",
       "      <td>96</td>\n",
       "      <td>56</td>\n",
       "      <td>0</td>\n",
       "    </tr>\n",
       "    <tr>\n",
       "      <th>39563</th>\n",
       "      <td>2014-12-02</td>\n",
       "      <td>Hard</td>\n",
       "      <td>2nd Round</td>\n",
       "      <td>85</td>\n",
       "      <td>81</td>\n",
       "      <td>0</td>\n",
       "    </tr>\n",
       "  </tbody>\n",
       "</table>\n",
       "</div>"
      ],
      "text/plain": [
       "            Date Surface      Round  WRank  LRank  win\n",
       "39530 2014-12-02    Clay  1st Round     92     42    0\n",
       "39531 2014-12-02    Clay  1st Round     45     78    1\n",
       "39537 2014-12-02    Clay  2nd Round     14     58    1\n",
       "39560 2014-12-02    Hard  1st Round     96     56    0\n",
       "39563 2014-12-02    Hard  2nd Round     85     81    0"
      ]
     },
     "execution_count": 191,
     "metadata": {},
     "output_type": "execute_result"
    }
   ],
   "source": [
    "df3 = newdf2.copy()\n",
    "df3 = df3[df3['Best_of'] == 3]\n",
    "# Drop Best_of and Series columns\n",
    "df3.drop(\"Series\",axis = 1,inplace=True)\n",
    "df3.drop(\"Best_of\",axis = 1,inplace=True)\n",
    "df3.head()"
   ]
  },
  {
   "cell_type": "code",
   "execution_count": 192,
   "metadata": {
    "collapsed": true
   },
   "outputs": [],
   "source": [
    "y_0 = df3[df3.win == 0] \n",
    "y_1 = df3[df3.win == 1] \n",
    "n = min([len(y_0), len(y_1)]) \n",
    "y_0 = y_0.sample(n = n, random_state = 0) \n",
    "y_1 = y_1.sample(n = n, random_state = 0)\n",
    "df_strat = pd.concat([y_0, y_1]) \n",
    "X_strat = df_strat[['Date', 'Surface', 'Round','WRank', 'LRank']]\n",
    "y_strat = df_strat.win"
   ]
  },
  {
   "cell_type": "code",
   "execution_count": 193,
   "metadata": {
    "collapsed": false
   },
   "outputs": [
    {
     "data": {
      "text/html": [
       "<div>\n",
       "<table border=\"1\" class=\"dataframe\">\n",
       "  <thead>\n",
       "    <tr style=\"text-align: right;\">\n",
       "      <th></th>\n",
       "      <th>Date</th>\n",
       "      <th>Surface</th>\n",
       "      <th>Round</th>\n",
       "      <th>WRank</th>\n",
       "      <th>LRank</th>\n",
       "      <th>win</th>\n",
       "    </tr>\n",
       "  </thead>\n",
       "  <tbody>\n",
       "    <tr>\n",
       "      <th>43714</th>\n",
       "      <td>2015-12-08</td>\n",
       "      <td>Hard</td>\n",
       "      <td>2nd Round</td>\n",
       "      <td>49</td>\n",
       "      <td>34</td>\n",
       "      <td>0</td>\n",
       "    </tr>\n",
       "    <tr>\n",
       "      <th>42431</th>\n",
       "      <td>2015-03-15</td>\n",
       "      <td>Hard</td>\n",
       "      <td>2nd Round</td>\n",
       "      <td>41</td>\n",
       "      <td>32</td>\n",
       "      <td>0</td>\n",
       "    </tr>\n",
       "    <tr>\n",
       "      <th>45333</th>\n",
       "      <td>2016-04-20</td>\n",
       "      <td>Clay</td>\n",
       "      <td>2nd Round</td>\n",
       "      <td>51</td>\n",
       "      <td>35</td>\n",
       "      <td>0</td>\n",
       "    </tr>\n",
       "    <tr>\n",
       "      <th>42802</th>\n",
       "      <td>2015-01-05</td>\n",
       "      <td>Clay</td>\n",
       "      <td>Quarterfinals</td>\n",
       "      <td>63</td>\n",
       "      <td>50</td>\n",
       "      <td>0</td>\n",
       "    </tr>\n",
       "    <tr>\n",
       "      <th>45438</th>\n",
       "      <td>2016-01-05</td>\n",
       "      <td>Clay</td>\n",
       "      <td>The Final</td>\n",
       "      <td>87</td>\n",
       "      <td>29</td>\n",
       "      <td>0</td>\n",
       "    </tr>\n",
       "  </tbody>\n",
       "</table>\n",
       "</div>"
      ],
      "text/plain": [
       "            Date Surface          Round  WRank  LRank  win\n",
       "43714 2015-12-08    Hard      2nd Round     49     34    0\n",
       "42431 2015-03-15    Hard      2nd Round     41     32    0\n",
       "45333 2016-04-20    Clay      2nd Round     51     35    0\n",
       "42802 2015-01-05    Clay  Quarterfinals     63     50    0\n",
       "45438 2016-01-05    Clay      The Final     87     29    0"
      ]
     },
     "execution_count": 193,
     "metadata": {},
     "output_type": "execute_result"
    }
   ],
   "source": [
    "X_strat_1=X_strat.copy()\n",
    "X_strat_1['win']=y_strat\n",
    "X_strat_1.head()"
   ]
  },
  {
   "cell_type": "code",
   "execution_count": 194,
   "metadata": {
    "collapsed": false
   },
   "outputs": [
    {
     "data": {
      "text/html": [
       "<div>\n",
       "<table border=\"1\" class=\"dataframe\">\n",
       "  <thead>\n",
       "    <tr style=\"text-align: right;\">\n",
       "      <th></th>\n",
       "      <th>Date</th>\n",
       "      <th>Surface</th>\n",
       "      <th>Round</th>\n",
       "      <th>WRank</th>\n",
       "      <th>LRank</th>\n",
       "      <th>win</th>\n",
       "      <th>P1</th>\n",
       "      <th>P2</th>\n",
       "    </tr>\n",
       "  </thead>\n",
       "  <tbody>\n",
       "    <tr>\n",
       "      <th>43714</th>\n",
       "      <td>2015-12-08</td>\n",
       "      <td>Hard</td>\n",
       "      <td>2nd Round</td>\n",
       "      <td>49</td>\n",
       "      <td>34</td>\n",
       "      <td>0</td>\n",
       "      <td>49</td>\n",
       "      <td>34</td>\n",
       "    </tr>\n",
       "    <tr>\n",
       "      <th>42431</th>\n",
       "      <td>2015-03-15</td>\n",
       "      <td>Hard</td>\n",
       "      <td>2nd Round</td>\n",
       "      <td>41</td>\n",
       "      <td>32</td>\n",
       "      <td>0</td>\n",
       "      <td>41</td>\n",
       "      <td>32</td>\n",
       "    </tr>\n",
       "    <tr>\n",
       "      <th>45333</th>\n",
       "      <td>2016-04-20</td>\n",
       "      <td>Clay</td>\n",
       "      <td>2nd Round</td>\n",
       "      <td>51</td>\n",
       "      <td>35</td>\n",
       "      <td>0</td>\n",
       "      <td>51</td>\n",
       "      <td>35</td>\n",
       "    </tr>\n",
       "    <tr>\n",
       "      <th>42802</th>\n",
       "      <td>2015-01-05</td>\n",
       "      <td>Clay</td>\n",
       "      <td>Quarterfinals</td>\n",
       "      <td>63</td>\n",
       "      <td>50</td>\n",
       "      <td>0</td>\n",
       "      <td>63</td>\n",
       "      <td>50</td>\n",
       "    </tr>\n",
       "    <tr>\n",
       "      <th>45438</th>\n",
       "      <td>2016-01-05</td>\n",
       "      <td>Clay</td>\n",
       "      <td>The Final</td>\n",
       "      <td>87</td>\n",
       "      <td>29</td>\n",
       "      <td>0</td>\n",
       "      <td>87</td>\n",
       "      <td>29</td>\n",
       "    </tr>\n",
       "  </tbody>\n",
       "</table>\n",
       "</div>"
      ],
      "text/plain": [
       "            Date Surface          Round  WRank  LRank  win  P1  P2\n",
       "43714 2015-12-08    Hard      2nd Round     49     34    0  49  34\n",
       "42431 2015-03-15    Hard      2nd Round     41     32    0  41  32\n",
       "45333 2016-04-20    Clay      2nd Round     51     35    0  51  35\n",
       "42802 2015-01-05    Clay  Quarterfinals     63     50    0  63  50\n",
       "45438 2016-01-05    Clay      The Final     87     29    0  87  29"
      ]
     },
     "execution_count": 194,
     "metadata": {},
     "output_type": "execute_result"
    }
   ],
   "source": [
    "df = X_strat_1.copy()\n",
    "df[\"P1\"] = df[[\"WRank\", \"LRank\"]].max(axis=1)\n",
    "df[\"P2\"] = df[[\"WRank\", \"LRank\"]].min(axis=1)\n",
    "df.head()"
   ]
  },
  {
   "cell_type": "markdown",
   "metadata": {},
   "source": [
    "## Exploratory Analysis for Best_of = 3"
   ]
  },
  {
   "cell_type": "code",
   "execution_count": 195,
   "metadata": {
    "collapsed": false
   },
   "outputs": [
    {
     "data": {
      "image/png": "[encoded data removed]",
      "text/plain": [
       "<matplotlib.figure.Figure at 0x11d0cded0>"
      ]
     },
     "metadata": {},
     "output_type": "display_data"
    }
   ],
   "source": [
    "#Without stratification\n",
    "win_by_Surface = pd.crosstab(df3.win, df3.Surface).apply( lambda x: x/x.sum(), axis = 0 )\n",
    "win_by_Surface\n",
    "win_by_Surface = pd.DataFrame( win_by_Surface.unstack() ).reset_index()\n",
    "win_by_Surface.columns = [\"Surface\", \"win\", \"total\" ]\n",
    "fig2 = sns.barplot(win_by_Surface.Surface, win_by_Surface.total, hue = win_by_Surface.win )\n",
    "fig2.figure.set_size_inches(8,5)"
   ]
  },
  {
   "cell_type": "code",
   "execution_count": 196,
   "metadata": {
    "collapsed": false
   },
   "outputs": [
    {
     "data": {
      "image/png": "[encoded data removed]",
      "text/plain": [
       "<matplotlib.figure.Figure at 0x11c52ed10>"
      ]
     },
     "metadata": {},
     "output_type": "display_data"
    }
   ],
   "source": [
    "#without stratification\n",
    "win_by_round = pd.crosstab(df.win, df.Round).apply( lambda x: x/x.sum(), axis = 0 )\n",
    "win_by_round\n",
    "win_by_round = pd.DataFrame(win_by_round.unstack() ).reset_index()\n",
    "win_by_round.columns = [\"Round\", \"win\", \"total\" ]\n",
    "fig2 = sns.barplot(win_by_round.Round, win_by_round.total, hue = win_by_round.win )\n",
    "fig2.figure.set_size_inches(8,5)"
   ]
  },
  {
   "cell_type": "markdown",
   "metadata": {},
   "source": [
    "Dummy variables\n",
    "------"
   ]
  },
  {
   "cell_type": "code",
   "execution_count": 197,
   "metadata": {
    "collapsed": false
   },
   "outputs": [
    {
     "data": {
      "text/html": [
       "<div>\n",
       "<table border=\"1\" class=\"dataframe\">\n",
       "  <thead>\n",
       "    <tr style=\"text-align: right;\">\n",
       "      <th></th>\n",
       "      <th>Date</th>\n",
       "      <th>Surface</th>\n",
       "      <th>Round</th>\n",
       "      <th>WRank</th>\n",
       "      <th>LRank</th>\n",
       "      <th>win</th>\n",
       "      <th>P1</th>\n",
       "      <th>P2</th>\n",
       "      <th>Round_2</th>\n",
       "      <th>Round_3</th>\n",
       "      <th>Round_4</th>\n",
       "      <th>Round_5</th>\n",
       "      <th>Round_6</th>\n",
       "      <th>Round_7</th>\n",
       "    </tr>\n",
       "  </thead>\n",
       "  <tbody>\n",
       "    <tr>\n",
       "      <th>43714</th>\n",
       "      <td>2015-12-08</td>\n",
       "      <td>Hard</td>\n",
       "      <td>2</td>\n",
       "      <td>49</td>\n",
       "      <td>34</td>\n",
       "      <td>0</td>\n",
       "      <td>49</td>\n",
       "      <td>34</td>\n",
       "      <td>1</td>\n",
       "      <td>0</td>\n",
       "      <td>0</td>\n",
       "      <td>0</td>\n",
       "      <td>0</td>\n",
       "      <td>0</td>\n",
       "    </tr>\n",
       "    <tr>\n",
       "      <th>42431</th>\n",
       "      <td>2015-03-15</td>\n",
       "      <td>Hard</td>\n",
       "      <td>2</td>\n",
       "      <td>41</td>\n",
       "      <td>32</td>\n",
       "      <td>0</td>\n",
       "      <td>41</td>\n",
       "      <td>32</td>\n",
       "      <td>1</td>\n",
       "      <td>0</td>\n",
       "      <td>0</td>\n",
       "      <td>0</td>\n",
       "      <td>0</td>\n",
       "      <td>0</td>\n",
       "    </tr>\n",
       "    <tr>\n",
       "      <th>45333</th>\n",
       "      <td>2016-04-20</td>\n",
       "      <td>Clay</td>\n",
       "      <td>2</td>\n",
       "      <td>51</td>\n",
       "      <td>35</td>\n",
       "      <td>0</td>\n",
       "      <td>51</td>\n",
       "      <td>35</td>\n",
       "      <td>1</td>\n",
       "      <td>0</td>\n",
       "      <td>0</td>\n",
       "      <td>0</td>\n",
       "      <td>0</td>\n",
       "      <td>0</td>\n",
       "    </tr>\n",
       "    <tr>\n",
       "      <th>42802</th>\n",
       "      <td>2015-01-05</td>\n",
       "      <td>Clay</td>\n",
       "      <td>5</td>\n",
       "      <td>63</td>\n",
       "      <td>50</td>\n",
       "      <td>0</td>\n",
       "      <td>63</td>\n",
       "      <td>50</td>\n",
       "      <td>0</td>\n",
       "      <td>0</td>\n",
       "      <td>0</td>\n",
       "      <td>1</td>\n",
       "      <td>0</td>\n",
       "      <td>0</td>\n",
       "    </tr>\n",
       "    <tr>\n",
       "      <th>45438</th>\n",
       "      <td>2016-01-05</td>\n",
       "      <td>Clay</td>\n",
       "      <td>7</td>\n",
       "      <td>87</td>\n",
       "      <td>29</td>\n",
       "      <td>0</td>\n",
       "      <td>87</td>\n",
       "      <td>29</td>\n",
       "      <td>0</td>\n",
       "      <td>0</td>\n",
       "      <td>0</td>\n",
       "      <td>0</td>\n",
       "      <td>0</td>\n",
       "      <td>1</td>\n",
       "    </tr>\n",
       "  </tbody>\n",
       "</table>\n",
       "</div>"
      ],
      "text/plain": [
       "            Date Surface  Round  WRank  LRank  win  P1  P2  Round_2  Round_3  \\\n",
       "43714 2015-12-08    Hard      2     49     34    0  49  34        1        0   \n",
       "42431 2015-03-15    Hard      2     41     32    0  41  32        1        0   \n",
       "45333 2016-04-20    Clay      2     51     35    0  51  35        1        0   \n",
       "42802 2015-01-05    Clay      5     63     50    0  63  50        0        0   \n",
       "45438 2016-01-05    Clay      7     87     29    0  87  29        0        0   \n",
       "\n",
       "       Round_4  Round_5  Round_6  Round_7  \n",
       "43714        0        0        0        0  \n",
       "42431        0        0        0        0  \n",
       "45333        0        0        0        0  \n",
       "42802        0        1        0        0  \n",
       "45438        0        0        0        1  "
      ]
     },
     "execution_count": 197,
     "metadata": {},
     "output_type": "execute_result"
    }
   ],
   "source": [
    "df1 = df.copy()\n",
    "def round_number(x):\n",
    "    if x == '1st Round':\n",
    "        return 1\n",
    "    elif x == '2nd Round':\n",
    "        return 2\n",
    "    elif x == '3rd Round':\n",
    "        return 3\n",
    "    elif x == '4th Round':\n",
    "        return 4\n",
    "    elif x == 'Quarterfinals':\n",
    "        return 5\n",
    "    elif x == 'Semifinals':\n",
    "        return 6\n",
    "    elif x == 'The Final':\n",
    "        return 7\n",
    "    \n",
    "df1['Round'] = df1['Round'].apply(round_number)\n",
    "\n",
    "dummy_ranks = pd.get_dummies(df1['Round'], prefix='Round')\n",
    "\n",
    "df1 = df1.join(dummy_ranks.ix[:, 'Round_2':])\n",
    "df1[['Round_2', 'Round_3',\n",
    "       'Round_4', 'Round_5', 'Round_6', 'Round_7']] = df1[['Round_2', 'Round_3','Round_4', 'Round_5', 'Round_6', 'Round_7']].astype('int_')\n",
    "df1.head()"
   ]
  },
  {
   "cell_type": "code",
   "execution_count": 198,
   "metadata": {
    "collapsed": false
   },
   "outputs": [
    {
     "data": {
      "text/html": [
       "<div>\n",
       "<table border=\"1\" class=\"dataframe\">\n",
       "  <thead>\n",
       "    <tr style=\"text-align: right;\">\n",
       "      <th></th>\n",
       "      <th>Date</th>\n",
       "      <th>WRank</th>\n",
       "      <th>LRank</th>\n",
       "      <th>win</th>\n",
       "      <th>P1</th>\n",
       "      <th>P2</th>\n",
       "      <th>Round_2</th>\n",
       "      <th>Round_3</th>\n",
       "      <th>Round_4</th>\n",
       "      <th>Round_5</th>\n",
       "      <th>Round_6</th>\n",
       "      <th>Round_7</th>\n",
       "      <th>Surface_Grass</th>\n",
       "      <th>Surface_Hard</th>\n",
       "    </tr>\n",
       "  </thead>\n",
       "  <tbody>\n",
       "    <tr>\n",
       "      <th>43714</th>\n",
       "      <td>2015-12-08</td>\n",
       "      <td>49</td>\n",
       "      <td>34</td>\n",
       "      <td>0</td>\n",
       "      <td>49</td>\n",
       "      <td>34</td>\n",
       "      <td>1</td>\n",
       "      <td>0</td>\n",
       "      <td>0</td>\n",
       "      <td>0</td>\n",
       "      <td>0</td>\n",
       "      <td>0</td>\n",
       "      <td>0</td>\n",
       "      <td>1</td>\n",
       "    </tr>\n",
       "    <tr>\n",
       "      <th>42431</th>\n",
       "      <td>2015-03-15</td>\n",
       "      <td>41</td>\n",
       "      <td>32</td>\n",
       "      <td>0</td>\n",
       "      <td>41</td>\n",
       "      <td>32</td>\n",
       "      <td>1</td>\n",
       "      <td>0</td>\n",
       "      <td>0</td>\n",
       "      <td>0</td>\n",
       "      <td>0</td>\n",
       "      <td>0</td>\n",
       "      <td>0</td>\n",
       "      <td>1</td>\n",
       "    </tr>\n",
       "    <tr>\n",
       "      <th>45333</th>\n",
       "      <td>2016-04-20</td>\n",
       "      <td>51</td>\n",
       "      <td>35</td>\n",
       "      <td>0</td>\n",
       "      <td>51</td>\n",
       "      <td>35</td>\n",
       "      <td>1</td>\n",
       "      <td>0</td>\n",
       "      <td>0</td>\n",
       "      <td>0</td>\n",
       "      <td>0</td>\n",
       "      <td>0</td>\n",
       "      <td>0</td>\n",
       "      <td>0</td>\n",
       "    </tr>\n",
       "    <tr>\n",
       "      <th>42802</th>\n",
       "      <td>2015-01-05</td>\n",
       "      <td>63</td>\n",
       "      <td>50</td>\n",
       "      <td>0</td>\n",
       "      <td>63</td>\n",
       "      <td>50</td>\n",
       "      <td>0</td>\n",
       "      <td>0</td>\n",
       "      <td>0</td>\n",
       "      <td>1</td>\n",
       "      <td>0</td>\n",
       "      <td>0</td>\n",
       "      <td>0</td>\n",
       "      <td>0</td>\n",
       "    </tr>\n",
       "    <tr>\n",
       "      <th>45438</th>\n",
       "      <td>2016-01-05</td>\n",
       "      <td>87</td>\n",
       "      <td>29</td>\n",
       "      <td>0</td>\n",
       "      <td>87</td>\n",
       "      <td>29</td>\n",
       "      <td>0</td>\n",
       "      <td>0</td>\n",
       "      <td>0</td>\n",
       "      <td>0</td>\n",
       "      <td>0</td>\n",
       "      <td>1</td>\n",
       "      <td>0</td>\n",
       "      <td>0</td>\n",
       "    </tr>\n",
       "  </tbody>\n",
       "</table>\n",
       "</div>"
      ],
      "text/plain": [
       "            Date  WRank  LRank  win  P1  P2  Round_2  Round_3  Round_4  \\\n",
       "43714 2015-12-08     49     34    0  49  34        1        0        0   \n",
       "42431 2015-03-15     41     32    0  41  32        1        0        0   \n",
       "45333 2016-04-20     51     35    0  51  35        1        0        0   \n",
       "42802 2015-01-05     63     50    0  63  50        0        0        0   \n",
       "45438 2016-01-05     87     29    0  87  29        0        0        0   \n",
       "\n",
       "       Round_5  Round_6  Round_7  Surface_Grass  Surface_Hard  \n",
       "43714        0        0        0              0             1  \n",
       "42431        0        0        0              0             1  \n",
       "45333        0        0        0              0             0  \n",
       "42802        1        0        0              0             0  \n",
       "45438        0        0        1              0             0  "
      ]
     },
     "execution_count": 198,
     "metadata": {},
     "output_type": "execute_result"
    }
   ],
   "source": [
    "dummy_ranks = pd.get_dummies(df1['Surface'], prefix='Surface')\n",
    "df_2 = df1.join(dummy_ranks.ix[:, 'Surface_Grass':])\n",
    "df_2.drop(\"Surface\",axis = 1,inplace=True)\n",
    "df_2[['Surface_Grass','Surface_Hard']] = df_2[['Surface_Grass','Surface_Hard']].astype('int_')\n",
    "df_2.drop(\"Round\",axis = 1,inplace=True)\n",
    "df_2.head()"
   ]
  },
  {
   "cell_type": "code",
   "execution_count": 199,
   "metadata": {
    "collapsed": false
   },
   "outputs": [
    {
     "data": {
      "text/html": [
       "<div>\n",
       "<table border=\"1\" class=\"dataframe\">\n",
       "  <thead>\n",
       "    <tr style=\"text-align: right;\">\n",
       "      <th></th>\n",
       "      <th>Date</th>\n",
       "      <th>WRank</th>\n",
       "      <th>LRank</th>\n",
       "      <th>win</th>\n",
       "      <th>P1</th>\n",
       "      <th>P2</th>\n",
       "      <th>Round_2</th>\n",
       "      <th>Round_3</th>\n",
       "      <th>Round_4</th>\n",
       "      <th>Round_5</th>\n",
       "      <th>Round_6</th>\n",
       "      <th>Round_7</th>\n",
       "      <th>Surface_Grass</th>\n",
       "      <th>Surface_Hard</th>\n",
       "      <th>D</th>\n",
       "    </tr>\n",
       "  </thead>\n",
       "  <tbody>\n",
       "    <tr>\n",
       "      <th>43714</th>\n",
       "      <td>2015-12-08</td>\n",
       "      <td>49</td>\n",
       "      <td>34</td>\n",
       "      <td>0</td>\n",
       "      <td>5.614710</td>\n",
       "      <td>5.087463</td>\n",
       "      <td>1</td>\n",
       "      <td>0</td>\n",
       "      <td>0</td>\n",
       "      <td>0</td>\n",
       "      <td>0</td>\n",
       "      <td>0</td>\n",
       "      <td>0</td>\n",
       "      <td>1</td>\n",
       "      <td>0.527247</td>\n",
       "    </tr>\n",
       "    <tr>\n",
       "      <th>42431</th>\n",
       "      <td>2015-03-15</td>\n",
       "      <td>41</td>\n",
       "      <td>32</td>\n",
       "      <td>0</td>\n",
       "      <td>5.357552</td>\n",
       "      <td>5.000000</td>\n",
       "      <td>1</td>\n",
       "      <td>0</td>\n",
       "      <td>0</td>\n",
       "      <td>0</td>\n",
       "      <td>0</td>\n",
       "      <td>0</td>\n",
       "      <td>0</td>\n",
       "      <td>1</td>\n",
       "      <td>0.357552</td>\n",
       "    </tr>\n",
       "    <tr>\n",
       "      <th>45333</th>\n",
       "      <td>2016-04-20</td>\n",
       "      <td>51</td>\n",
       "      <td>35</td>\n",
       "      <td>0</td>\n",
       "      <td>5.672425</td>\n",
       "      <td>5.129283</td>\n",
       "      <td>1</td>\n",
       "      <td>0</td>\n",
       "      <td>0</td>\n",
       "      <td>0</td>\n",
       "      <td>0</td>\n",
       "      <td>0</td>\n",
       "      <td>0</td>\n",
       "      <td>0</td>\n",
       "      <td>0.543142</td>\n",
       "    </tr>\n",
       "    <tr>\n",
       "      <th>42802</th>\n",
       "      <td>2015-01-05</td>\n",
       "      <td>63</td>\n",
       "      <td>50</td>\n",
       "      <td>0</td>\n",
       "      <td>5.977280</td>\n",
       "      <td>5.643856</td>\n",
       "      <td>0</td>\n",
       "      <td>0</td>\n",
       "      <td>0</td>\n",
       "      <td>1</td>\n",
       "      <td>0</td>\n",
       "      <td>0</td>\n",
       "      <td>0</td>\n",
       "      <td>0</td>\n",
       "      <td>0.333424</td>\n",
       "    </tr>\n",
       "    <tr>\n",
       "      <th>45438</th>\n",
       "      <td>2016-01-05</td>\n",
       "      <td>87</td>\n",
       "      <td>29</td>\n",
       "      <td>0</td>\n",
       "      <td>6.442943</td>\n",
       "      <td>4.857981</td>\n",
       "      <td>0</td>\n",
       "      <td>0</td>\n",
       "      <td>0</td>\n",
       "      <td>0</td>\n",
       "      <td>0</td>\n",
       "      <td>1</td>\n",
       "      <td>0</td>\n",
       "      <td>0</td>\n",
       "      <td>1.584963</td>\n",
       "    </tr>\n",
       "  </tbody>\n",
       "</table>\n",
       "</div>"
      ],
      "text/plain": [
       "            Date  WRank  LRank  win        P1        P2  Round_2  Round_3  \\\n",
       "43714 2015-12-08     49     34    0  5.614710  5.087463        1        0   \n",
       "42431 2015-03-15     41     32    0  5.357552  5.000000        1        0   \n",
       "45333 2016-04-20     51     35    0  5.672425  5.129283        1        0   \n",
       "42802 2015-01-05     63     50    0  5.977280  5.643856        0        0   \n",
       "45438 2016-01-05     87     29    0  6.442943  4.857981        0        0   \n",
       "\n",
       "       Round_4  Round_5  Round_6  Round_7  Surface_Grass  Surface_Hard  \\\n",
       "43714        0        0        0        0              0             1   \n",
       "42431        0        0        0        0              0             1   \n",
       "45333        0        0        0        0              0             0   \n",
       "42802        0        1        0        0              0             0   \n",
       "45438        0        0        0        1              0             0   \n",
       "\n",
       "              D  \n",
       "43714  0.527247  \n",
       "42431  0.357552  \n",
       "45333  0.543142  \n",
       "42802  0.333424  \n",
       "45438  1.584963  "
      ]
     },
     "execution_count": 199,
     "metadata": {},
     "output_type": "execute_result"
    }
   ],
   "source": [
    "df4 = df_2.copy()\n",
    "df4['P1'] = np.log2(df4['P1'].astype('float64')) \n",
    "df4['P2'] = np.log2(df4['P2'].astype('float64')) \n",
    "df4['D'] = df4['P1'] - df4['P2']\n",
    "df4['D'] = np.absolute(df4['D'])\n",
    "df4.head()"
   ]
  },
  {
   "cell_type": "markdown",
   "metadata": {},
   "source": [
    "## Model 1: Logistic Regression"
   ]
  },
  {
   "cell_type": "code",
   "execution_count": 61,
   "metadata": {
    "collapsed": false
   },
   "outputs": [
    {
     "data": {
      "text/plain": [
       "['Date',\n",
       " 'WRank',\n",
       " 'LRank',\n",
       " 'win',\n",
       " 'P1',\n",
       " 'P2',\n",
       " 'Round_2',\n",
       " 'Round_3',\n",
       " 'Round_4',\n",
       " 'Round_5',\n",
       " 'Round_6',\n",
       " 'Round_7',\n",
       " 'Surface_Grass',\n",
       " 'Surface_Hard',\n",
       " 'D']"
      ]
     },
     "execution_count": 61,
     "metadata": {},
     "output_type": "execute_result"
    }
   ],
   "source": [
    "df4.columns.tolist()"
   ]
  },
  {
   "cell_type": "code",
   "execution_count": 266,
   "metadata": {
    "collapsed": true
   },
   "outputs": [],
   "source": [
    "#feature_cols = ['P1','P2','Round_2','Round_3','Round_4','Round_5','Round_6','Round_7','Surface_Grass','Surface_Hard','D']\n",
    "feature_cols = ['D','Surface_Hard','Surface_Grass','Round_6','Round_5','Round_3']"
   ]
  },
  {
   "cell_type": "code",
   "execution_count": 267,
   "metadata": {
    "collapsed": false
   },
   "outputs": [
    {
     "name": "stdout",
     "output_type": "stream",
     "text": [
      "0.591885441527\n",
      "0.620670798396\n"
     ]
    }
   ],
   "source": [
    "dfnew = df4.copy()\n",
    "X = dfnew[feature_cols]\n",
    "y = dfnew.win\n",
    "from sklearn.cross_validation import train_test_split\n",
    "X_train, X_test, y_train, y_test = train_test_split(X, y, random_state=0)\n",
    "from sklearn.linear_model import LogisticRegression\n",
    "logreg = LogisticRegression()\n",
    "logreg.fit(X_train, y_train)\n",
    "y_pred_class = logreg.predict(X_test)\n",
    "from sklearn import metrics\n",
    "print(metrics.accuracy_score(y_test, y_pred_class))\n",
    "y_pred_prob = logreg.predict_proba(X_test)[:, 1]\n",
    "auc_score = metrics.roc_auc_score(y_test, y_pred_prob)\n",
    "print(auc_score)"
   ]
  },
  {
   "cell_type": "code",
   "execution_count": 268,
   "metadata": {
    "collapsed": false
   },
   "outputs": [
    {
     "data": {
      "image/png": "[encoded data removed]",
      "text/plain": [
       "<matplotlib.figure.Figure at 0x11d737d10>"
      ]
     },
     "metadata": {},
     "output_type": "display_data"
    }
   ],
   "source": [
    "y_pred_prob = logreg.predict_proba(X_test)[:, 1]\n",
    "auc_score = metrics.roc_auc_score(y_test, y_pred_prob)\n",
    "auc_score\n",
    "fpr, tpr, thresholds = metrics.roc_curve(y_test, y_pred_prob)\n",
    "fig = plt.plot(fpr, tpr,label='ROC curve (area = %0.2f)' % auc_score )\n",
    "plt.plot([0, 1], [0, 1], 'k--')\n",
    "plt.xlim([0.0, 1.0])\n",
    "plt.ylim([0.0, 1.0])\n",
    "plt.title('ROC curve for win classifier')\n",
    "plt.xlabel('False Positive Rate (1 - Specificity)')\n",
    "plt.ylabel('True Positive Rate (Sensitivity)')\n",
    "plt.legend(loc=\"lower right\")\n",
    "plt.grid(True)"
   ]
  },
  {
   "cell_type": "code",
   "execution_count": 269,
   "metadata": {
    "collapsed": false
   },
   "outputs": [
    {
     "data": {
      "text/plain": [
       "0.64683339949421492"
      ]
     },
     "execution_count": 269,
     "metadata": {},
     "output_type": "execute_result"
    }
   ],
   "source": [
    "from sklearn.cross_validation import cross_val_score\n",
    "cross_val_score(logreg, X, y, cv=10, scoring='roc_auc').mean()"
   ]
  },
  {
   "cell_type": "code",
   "execution_count": 271,
   "metadata": {
    "collapsed": false
   },
   "outputs": [
    {
     "data": {
      "image/png": "[encoded data removed]",
      "text/plain": [
       "<matplotlib.figure.Figure at 0x11d5f40d0>"
      ]
     },
     "metadata": {},
     "output_type": "display_data"
    }
   ],
   "source": [
    "logreg.fit(dfnew[[\"D\"]],dfnew[\"win\"])\n",
    "pred_probs = logreg.predict_proba(dfnew[[\"D\"]])\n",
    "plt.scatter(dfnew[\"D\"], pred_probs[:,1])\n",
    "plt.title('Win Probability for 3 sets matches')\n",
    "plt.xlabel('D')\n",
    "plt.ylabel('Win Probability for 3 sets matches')\n",
    "plt.legend(loc=\"lower right\")\n",
    "plt.grid(True)"
   ]
  },
  {
   "cell_type": "markdown",
   "metadata": {},
   "source": [
    "## Decision Trees and Random Forests"
   ]
  },
  {
   "cell_type": "code",
   "execution_count": 272,
   "metadata": {
    "collapsed": false
   },
   "outputs": [
    {
     "data": {
      "text/plain": [
       "DecisionTreeClassifier(class_weight=None, criterion='gini', max_depth=None,\n",
       "            max_features=None, max_leaf_nodes=None, min_samples_leaf=1,\n",
       "            min_samples_split=2, min_weight_fraction_leaf=0.0,\n",
       "            presort=False, random_state=None, splitter='best')"
      ]
     },
     "execution_count": 272,
     "metadata": {},
     "output_type": "execute_result"
    }
   ],
   "source": [
    "from sklearn.tree import DecisionTreeClassifier\n",
    "\n",
    "model = DecisionTreeClassifier()\n",
    "\n",
    "X = dfnew[feature_cols].dropna()\n",
    "y = dfnew['win']\n",
    "\n",
    "\n",
    "model.fit(X, y)"
   ]
  },
  {
   "cell_type": "code",
   "execution_count": 273,
   "metadata": {
    "collapsed": false
   },
   "outputs": [
    {
     "name": "stdout",
     "output_type": "stream",
     "text": [
      "AUC [ 0.55257937  0.57486536  0.53993056  0.5170318   0.49804582], Average AUC 0.536490582524\n"
     ]
    }
   ],
   "source": [
    "from sklearn.cross_validation import cross_val_score\n",
    "\n",
    "scores = cross_val_score(model, X, y, scoring='roc_auc', cv=5)\n",
    "print('AUC {}, Average AUC {}'.format(scores, scores.mean()))"
   ]
  },
  {
   "cell_type": "code",
   "execution_count": 274,
   "metadata": {
    "collapsed": false
   },
   "outputs": [
    {
     "name": "stdout",
     "output_type": "stream",
     "text": [
      "CV AUC [ 0.61034935  0.67795139  0.61050879  0.6052207   0.55577468], Average AUC 0.611960979666\n"
     ]
    }
   ],
   "source": [
    "model = DecisionTreeClassifier(\n",
    "                max_depth = 4,\n",
    "                min_samples_leaf = 6)\n",
    "\n",
    "model.fit(X, y)\n",
    "scores = cross_val_score(model, X, y, scoring='roc_auc', cv=5)\n",
    "print('CV AUC {}, Average AUC {}'.format(scores, scores.mean()))"
   ]
  },
  {
   "cell_type": "code",
   "execution_count": 275,
   "metadata": {
    "collapsed": false
   },
   "outputs": [
    {
     "data": {
      "text/plain": [
       "RandomForestClassifier(bootstrap=True, class_weight=None, criterion='gini',\n",
       "            max_depth=None, max_features='auto', max_leaf_nodes=None,\n",
       "            min_samples_leaf=1, min_samples_split=2,\n",
       "            min_weight_fraction_leaf=0.0, n_estimators=200, n_jobs=1,\n",
       "            oob_score=False, random_state=None, verbose=0,\n",
       "            warm_start=False)"
      ]
     },
     "execution_count": 275,
     "metadata": {},
     "output_type": "execute_result"
    }
   ],
   "source": [
    "from sklearn.ensemble import RandomForestClassifier\n",
    "from sklearn.cross_validation import cross_val_score\n",
    "\n",
    "X = dfnew[feature_cols].dropna()\n",
    "y = dfnew['win']\n",
    "\n",
    "model = RandomForestClassifier(n_estimators = 200)\n",
    "    \n",
    "model.fit(X, y)\n",
    "\n"
   ]
  },
  {
   "cell_type": "code",
   "execution_count": 276,
   "metadata": {
    "collapsed": false
   },
   "outputs": [
    {
     "data": {
      "text/html": [
       "<div>\n",
       "<table border=\"1\" class=\"dataframe\">\n",
       "  <thead>\n",
       "    <tr style=\"text-align: right;\">\n",
       "      <th></th>\n",
       "      <th>Features</th>\n",
       "      <th>Importance Score</th>\n",
       "    </tr>\n",
       "  </thead>\n",
       "  <tbody>\n",
       "    <tr>\n",
       "      <th>0</th>\n",
       "      <td>D</td>\n",
       "      <td>0.958857</td>\n",
       "    </tr>\n",
       "    <tr>\n",
       "      <th>1</th>\n",
       "      <td>Surface_Hard</td>\n",
       "      <td>0.010787</td>\n",
       "    </tr>\n",
       "    <tr>\n",
       "      <th>2</th>\n",
       "      <td>Surface_Grass</td>\n",
       "      <td>0.008321</td>\n",
       "    </tr>\n",
       "    <tr>\n",
       "      <th>5</th>\n",
       "      <td>Round_3</td>\n",
       "      <td>0.007937</td>\n",
       "    </tr>\n",
       "    <tr>\n",
       "      <th>4</th>\n",
       "      <td>Round_5</td>\n",
       "      <td>0.007525</td>\n",
       "    </tr>\n",
       "    <tr>\n",
       "      <th>3</th>\n",
       "      <td>Round_6</td>\n",
       "      <td>0.006573</td>\n",
       "    </tr>\n",
       "  </tbody>\n",
       "</table>\n",
       "</div>"
      ],
      "text/plain": [
       "        Features  Importance Score\n",
       "0              D          0.958857\n",
       "1   Surface_Hard          0.010787\n",
       "2  Surface_Grass          0.008321\n",
       "5        Round_3          0.007937\n",
       "4        Round_5          0.007525\n",
       "3        Round_6          0.006573"
      ]
     },
     "execution_count": 276,
     "metadata": {},
     "output_type": "execute_result"
    }
   ],
   "source": [
    "features = X.columns\n",
    "feature_importances = model.feature_importances_\n",
    "\n",
    "features_df = pd.DataFrame({'Features': features, 'Importance Score': feature_importances})\n",
    "features_df.sort_values('Importance Score', inplace=True, ascending=False)\n",
    "\n",
    "features_df"
   ]
  },
  {
   "cell_type": "code",
   "execution_count": 277,
   "metadata": {
    "collapsed": false
   },
   "outputs": [
    {
     "name": "stderr",
     "output_type": "stream",
     "text": [
      "/Users/marcotavora/anaconda/lib/python2.7/site-packages/ipykernel/__main__.py:2: FutureWarning: sort is deprecated, use sort_values(inplace=True) for INPLACE sorting\n",
      "  from ipykernel import kernelapp as app\n"
     ]
    },
    {
     "data": {
      "text/plain": [
       "<matplotlib.axes._subplots.AxesSubplot at 0x1211caf10>"
      ]
     },
     "execution_count": 277,
     "metadata": {},
     "output_type": "execute_result"
    },
    {
     "data": {
      "image/png": "[encoded data removed]",
      "text/plain": [
       "<matplotlib.figure.Figure at 0x11ebd11d0>"
      ]
     },
     "metadata": {},
     "output_type": "display_data"
    }
   ],
   "source": [
    "feature_importances = pd.Series(model.feature_importances_, index=X.columns)\n",
    "feature_importances.sort()\n",
    "feature_importances.plot(kind=\"barh\", figsize=(7,6))"
   ]
  },
  {
   "cell_type": "code",
   "execution_count": 278,
   "metadata": {
    "collapsed": false
   },
   "outputs": [
    {
     "name": "stdout",
     "output_type": "stream",
     "text": [
      "AUC [ 0.56410714  0.55746329  0.54182243], Average AUC 0.554464288773\n",
      "n trees: 1, CV AUC [ 0.54352679  0.52182012  0.52169808], Average AUC 0.529014994355\n",
      "n trees: 11, CV AUC [ 0.57148597  0.5538084   0.55104636], Average AUC 0.558780245814\n",
      "n trees: 21, CV AUC [ 0.55047194  0.54987731  0.53842448], Average AUC 0.546257911153\n",
      "n trees: 31, CV AUC [ 0.57475765  0.55339731  0.54241338], Average AUC 0.556856114695\n",
      "n trees: 41, CV AUC [ 0.55816327  0.5527357   0.54013952], Average AUC 0.550346161769\n",
      "n trees: 51, CV AUC [ 0.5441199   0.55787438  0.53792988], Average AUC 0.546641388544\n",
      "n trees: 61, CV AUC [ 0.56126913  0.55277424  0.54369805], Average AUC 0.552580476248\n",
      "n trees: 71, CV AUC [ 0.56765306  0.55975643  0.53744813], Average AUC 0.554952539745\n",
      "n trees: 81, CV AUC [ 0.56794643  0.55797716  0.54158477], Average AUC 0.555836118697\n",
      "n trees: 91, CV AUC [ 0.5585523   0.55412315  0.53579733], Average AUC 0.549490924948\n"
     ]
    }
   ],
   "source": [
    "from sklearn.cross_validation import cross_val_score\n",
    "\n",
    "scores = cross_val_score(model, X, y, scoring='roc_auc')\n",
    "print('AUC {}, Average AUC {}'.format(scores, scores.mean()))\n",
    "\n",
    "for n_trees in range(1, 100, 10):\n",
    "    model = RandomForestClassifier(n_estimators = n_trees)\n",
    "    scores = cross_val_score(model, X, y, scoring='roc_auc')\n",
    "    print('n trees: {}, CV AUC {}, Average AUC {}'.format(n_trees, scores, scores.mean()))"
   ]
  },
  {
   "cell_type": "code",
   "execution_count": null,
   "metadata": {
    "collapsed": true
   },
   "outputs": [],
   "source": []
  }
 ],
 "metadata": {
  "anaconda-cloud": {},
  "kernelspec": {
   "display_name": "Python [Root]",
   "language": "python",
   "name": "Python [Root]"
  },
  "language_info": {
   "codemirror_mode": {
    "name": "ipython",
    "version": 2
   },
   "file_extension": ".py",
   "mimetype": "text/x-python",
   "name": "python",
   "nbconvert_exporter": "python",
   "pygments_lexer": "ipython2",
   "version": "2.7.12"
  }
 },
 "nbformat": 4,
 "nbformat_minor": 0
}
